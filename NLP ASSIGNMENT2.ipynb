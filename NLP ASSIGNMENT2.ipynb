{
 "cells": [
  {
   "cell_type": "markdown",
   "id": "bbb32676",
   "metadata": {},
   "source": [
    "1. What are Corpora?\n",
    "2. What are Tokens?\n",
    "3. What are Unigrams, Bigrams, Trigrams?\n",
    "4. How to generate n-grams from text?\n",
    "5. Explain Lemmatization\n",
    "6. Explain Stemming\n",
    "7. Explain Part-of-speech (POS) tagging\n",
    "8. Explain Chunking or shallow parsing\n",
    "9. Explain Noun Phrase (NP) chunking\n",
    "10. Explain Named Entity Recognition"
   ]
  },
  {
   "cell_type": "markdown",
   "id": "fe9c28b9",
   "metadata": {},
   "source": [
    "Ans 1: Corpora\n",
    "\n",
    "Corpora (singular: corpus) refer to large and structured sets of text, often used to perform statistical analysis and hypothesis tests. They are essential for training and testing natural language processing (NLP) models.\n",
    "\n",
    "Ans 2: Tokens\n",
    "\n",
    "In the context of NLP, a token is a single unit of text, which can be a word, punctuation mark, number, or any other meaningful element derived from the input text. For instance, the sentence \"I love NLP!\" contains five tokens: [\"I\", \"love\", \"NLP\", \"!\", \"\"].\n",
    "\n",
    "Ans 3: Unigrams, Bigrams, Trigrams\n",
    "\n",
    "Unigrams: These are individual words in a text. For the sentence \"I love NLP\", the unigrams are [\"I\", \"love\", \"NLP\"].\n",
    "Bigrams: These are sequences of two adjacent words. Using the same sentence, the bigrams are [\"I love\", \"love NLP\"].\n",
    "Trigrams: These are sequences of three adjacent words. From the same sentence, the trigram is [\"I love NLP\"].\n",
    "\n",
    "Ans 4: Generating n-grams from text\n",
    "\n",
    "To generate n-grams from a given text:\n",
    "Tokenize the text into individual words or characters.\n",
    "Create sequences of n adjacent tokens.\n",
    "\n",
    "Ans 5: Lemmatization\n",
    "\n",
    "Lemmatization is the process of converting a word into its base or root form. Unlike stemming, which just chops off the ends of words, lemmatization considers the word's context and part of speech. For example, the lemma of \"running\" is \"run\".\n",
    "\n",
    "Ans 6: Stemming\n",
    "\n",
    "Stemming is a technique in NLP that reduces words to their root or base form by removing suffixes. It is a heuristic process that cuts off the ends of words. For example, stemming the word \"running\" would result in \"run\".\n",
    "\n",
    "Ans 7: Part-of-speech (POS) tagging\n",
    "\n",
    "POS tagging is the process of assigning a specific grammatical category (like noun, verb, adjective, etc.) to each word in a given text. This helps in understanding the syntactic relationships between words in a sentence.\n",
    "\n",
    "Ans 8: Chunking or shallow parsing\n",
    "\n",
    "Chunking (or shallow parsing) involves grouping words into meaningful chunks or phrases based on their POS tags. Common chunks include noun phrases (NP), verb phrases (VP), and prepositional phrases (PP).\n",
    "\n",
    "Ans 9: Noun Phrase (NP) chunking\n",
    "\n",
    "NP chunking is a specific type of chunking that focuses on identifying noun phrases in a sentence. A noun phrase typically consists of a noun and its modifiers. For instance, in the sentence \"The big brown dog chased the cat\", \"The big brown dog\" is an NP.\n",
    "\n",
    "Ans 10: Named Entity Recognition (NER)\n",
    "\n",
    "NER is a subtask of information extraction that identifies and classifies named entities (e.g., names of persons, organizations, locations, dates, etc.) in text into predefined categories. It is essential for various NLP applications like question answering, document categorization, and more."
   ]
  },
  {
   "cell_type": "code",
   "execution_count": null,
   "id": "080cd3b5",
   "metadata": {},
   "outputs": [],
   "source": []
  }
 ],
 "metadata": {
  "kernelspec": {
   "display_name": "Python 3 (ipykernel)",
   "language": "python",
   "name": "python3"
  },
  "language_info": {
   "codemirror_mode": {
    "name": "ipython",
    "version": 3
   },
   "file_extension": ".py",
   "mimetype": "text/x-python",
   "name": "python",
   "nbconvert_exporter": "python",
   "pygments_lexer": "ipython3",
   "version": "3.9.12"
  }
 },
 "nbformat": 4,
 "nbformat_minor": 5
}
