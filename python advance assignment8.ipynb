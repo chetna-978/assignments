{
 "cells": [
  {
   "cell_type": "markdown",
   "id": "b09ffb59",
   "metadata": {},
   "source": [
    "Q1. What are the two latest user-defined exception constraints in Python 3.X?\n",
    "\n",
    "Q2. How are class-based exceptions that have been raised matched to handlers?\n",
    "\n",
    "Q3. Describe two methods for attaching context information to exception artefacts.\n",
    "\n",
    "Q4. Describe two methods for specifying the text of an exception object&#39;s error message.\n",
    "\n",
    "Q5. Why do you no longer use string-based exceptions?"
   ]
  },
  {
   "cell_type": "markdown",
   "id": "eb7d42b4",
   "metadata": {},
   "source": [
    "Ans 1: In Python 3.x, the two latest user-defined exception constraints are:\n",
    "\n",
    "Exception Annotations: You can provide annotations to exceptions to specify additional metadata or context information. Annotations can be useful for documenting the purpose, usage, or context of custom exceptions.\n",
    "\n",
    "BaseException as the Ultimate Base Class: In Python 3.x, the built-in BaseException class serves as the ultimate base class for all exceptions. This ensures that all custom exceptions inherit from BaseException, allowing for consistent behavior and handling across different exception types.\n",
    "\n",
    "Ans 2: Class-based exceptions that have been raised are matched to handlers based on their class hierarchy. When an exception is raised, Python traverses the exception's class hierarchy from the most specific (subclass) to the most general (superclass) to find a matching except block. If a matching handler is found, the corresponding except block is executed to handle the exception. If no matching handler is found, the exception propagates up the call stack or reaches the top-level of the program, causing the program to terminate with an unhandled exception.\n",
    "\n",
    "Ans 3: Two methods for attaching context information to exception artifacts are:\n",
    "\n",
    "Custom Exception Attributes: You can define custom attributes in your exception classes to store additional context information or metadata related to the exception. By defining and setting these attributes when raising exceptions, you can provide detailed context information that can be accessed and used in exception handlers or logging frameworks.\n",
    "\n",
    "Exception Chaining: In Python 3.x, exceptions support a __cause__ attribute, which allows you to chain exceptions and capture the original exception that triggered the current exception. By setting the __cause__ attribute when raising exceptions, you can attach the original exception as the cause of the current exception, preserving the exception chain and providing a traceback of the original exception.\n",
    "\n",
    "Ans 4: Two methods for specifying the text of an exception object's error message are:\n",
    "\n",
    "Custom Exception Messages: You can define custom __str__ or __repr__ methods in your exception classes to customize the error message or representation of the exception object. By overriding these methods, you can provide meaningful error messages, format exception details, or include additional context information in the error message.\n",
    "\n",
    "Exception Arguments: When raising exceptions, you can pass arguments to the exception class's constructor to specify the error message or additional details. By passing arguments when raising exceptions, you can customize the exception's error message or provide dynamic context information that can be included in the error message.\n",
    "\n",
    "Ans 5: String-based exceptions are no longer used in modern Python programming because they lack the capabilities and features provided by class-based exceptions. String-based exceptions were error messages represented as strings, which limited their functionality, flexibility, and extensibility. Class-based exceptions introduced in Python allow for more structured, maintainable, and feature-rich exception handling, including inheritance, customization, chaining, and metadata support. By using class-based exceptions, developers can create more robust, expressive, and reusable exception hierarchies, leading to clearer, more maintainable, and more effective error handling and debugging."
   ]
  },
  {
   "cell_type": "code",
   "execution_count": null,
   "id": "2d8389b2",
   "metadata": {},
   "outputs": [],
   "source": []
  }
 ],
 "metadata": {
  "kernelspec": {
   "display_name": "Python 3 (ipykernel)",
   "language": "python",
   "name": "python3"
  },
  "language_info": {
   "codemirror_mode": {
    "name": "ipython",
    "version": 3
   },
   "file_extension": ".py",
   "mimetype": "text/x-python",
   "name": "python",
   "nbconvert_exporter": "python",
   "pygments_lexer": "ipython3",
   "version": "3.9.12"
  }
 },
 "nbformat": 4,
 "nbformat_minor": 5
}
