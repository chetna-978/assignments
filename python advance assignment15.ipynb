{
 "cells": [
  {
   "cell_type": "markdown",
   "id": "2c6a84d1",
   "metadata": {},
   "source": [
    "1. What are the new features added in Python 3.8 version?\n",
    "2. What is monkey patching in Python?\n",
    "3. What is the difference between a shallow copy and deep copy?\n",
    "4. What is the maximum possible length of an identifier?\n",
    "5. What is generator comprehension?"
   ]
  },
  {
   "cell_type": "markdown",
   "id": "dc185bc9",
   "metadata": {},
   "source": [
    "1. New features added in Python 3.8 version:\n",
    "Python 3.8 introduced several new features, including:\n",
    "\n",
    "Assignment expressions (walrus operator :=).\n",
    "Positional-only parameters in function definitions.\n",
    "Syntax warning for using a final newline in a source file.\n",
    "Improved f-strings with the = option.\n",
    "math.prod() function to calculate the product of a sequence.\n",
    "New syntax features, optimizations, and improvements.\n",
    "\n",
    "\n",
    "2. Monkey patching in Python:\n",
    "Monkey patching refers to the dynamic modification of a class or module at runtime. It involves altering or extending the behavior of classes or modules without altering their source code. This is often done by adding, modifying, or replacing methods or attributes."
   ]
  },
  {
   "cell_type": "markdown",
   "id": "394cf6c2",
   "metadata": {},
   "source": [
    "3. Difference between a shallow copy and deep copy:\n",
    "\n",
    "Shallow Copy: It creates a new object, but does not create new objects for the elements inside the original object. Changes to mutable elements inside the copied object affect the original object and vice versa.\n",
    "\n",
    "import copy\n",
    "new_list = copy.copy(original_list)\n"
   ]
  },
  {
   "cell_type": "markdown",
   "id": "672669e8",
   "metadata": {},
   "source": [
    "Deep Copy: It creates a completely independent copy of the original object along with copies of all the objects nested within it. Changes to the copied object or its elements do not affect the original object.\n",
    "\n",
    "import copy\n",
    "new_list = copy.deepcopy(original_list)\n"
   ]
  },
  {
   "cell_type": "markdown",
   "id": "3c518fa7",
   "metadata": {},
   "source": [
    "4. Maximum possible length of an identifier:\n",
    "The maximum length of an identifier (variable, function, class name, etc.) in Python is implementation-dependent. However, practical considerations and PEP 8 recommend keeping identifiers reasonably short (around 79 characters) for readability.\n",
    "\n",
    "5. Generator Comprehension:\n",
    "Generator comprehension is a concise way to create a generator object in Python. It has a similar syntax to list comprehensions but uses parentheses () instead of square brackets []. The main advantage is that it generates values on-the-fly, one at a time, rather than creating a complete list in memory."
   ]
  },
  {
   "cell_type": "code",
   "execution_count": 2,
   "id": "5688eed4",
   "metadata": {},
   "outputs": [],
   "source": [
    "generator = (x for x in range(10) if x % 2 == 0)\n"
   ]
  },
  {
   "cell_type": "code",
   "execution_count": null,
   "id": "d9d1c69c",
   "metadata": {},
   "outputs": [],
   "source": []
  }
 ],
 "metadata": {
  "kernelspec": {
   "display_name": "Python 3 (ipykernel)",
   "language": "python",
   "name": "python3"
  },
  "language_info": {
   "codemirror_mode": {
    "name": "ipython",
    "version": 3
   },
   "file_extension": ".py",
   "mimetype": "text/x-python",
   "name": "python",
   "nbconvert_exporter": "python",
   "pygments_lexer": "ipython3",
   "version": "3.9.12"
  }
 },
 "nbformat": 4,
 "nbformat_minor": 5
}
