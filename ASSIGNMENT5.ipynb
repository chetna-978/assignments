{
 "cells": [
  {
   "cell_type": "markdown",
   "id": "18b4d255",
   "metadata": {},
   "source": [
    "1. What does an empty dictionary&#39;s code look like?\n",
    "2. What is the value of a dictionary value with the key &#39;foo&#39; and the value 42?\n",
    "3. What is the most significant distinction between a dictionary and a list?\n",
    "4. What happens if you try to access spam[&#39;foo&#39;] if spam is {&#39;bar&#39;: 100}?\n",
    "5. If a dictionary is stored in spam, what is the difference between the expressions &#39;cat&#39; in spam and\n",
    "&#39;cat&#39; in spam.keys()?\n",
    "6. If a dictionary is stored in spam, what is the difference between the expressions &#39;cat&#39; in spam and\n",
    "&#39;cat&#39; in spam.values()?\n",
    "7. What is a shortcut for the following code?\n",
    "if &#39;color&#39; not in spam:\n",
    "spam[&#39;color&#39;] = &#39;black&#39;\n",
    "\n",
    "8. How do you &quot;pretty print&quot; dictionary values using which module and function?"
   ]
  },
  {
   "cell_type": "markdown",
   "id": "88dd981b",
   "metadata": {},
   "source": [
    "1.\n",
    "An empty dictionary's code looks like this: {}.\n",
    "\n",
    "2.\n",
    "If a dictionary has the key 'foo' and the value 42, it would look like this:\n",
    "\n",
    "python\n",
    "Copy code\n",
    "{'foo': 42}\n",
    "\n",
    "3.\n",
    "The most significant distinction between a dictionary and a list is how they store and access data:\n",
    "\n",
    "Dictionary: Uses key-value pairs to store data. You access values by specifying their keys.\n",
    "List: Uses an ordered sequence of elements (indexed by integers) to store data. You access elements by their indices.\n",
    "\n",
    "4.\n",
    "If you try to access spam['foo'] and spam is {'bar': 100}, you will get a KeyError because the key 'foo' does not exist in the dictionary spam.\n",
    "\n",
    "\n",
    "5.\n",
    "If a dictionary is stored in spam, the expression 'cat' in spam checks if the key 'cat' exists in the dictionary, while 'cat' in spam.keys() is essentially equivalent and also checks if the key 'cat' exists in the dictionary.\n",
    "\n",
    "6.\n",
    "If a dictionary is stored in spam, the expression 'cat' in spam checks if the key 'cat' exists in the dictionary, while 'cat' in spam.values() checks if the value 'cat' exists in any of the dictionary's values.\n",
    "\n",
    "7.\n",
    "A shortcut for the code if 'color' not in spam: spam['color'] = 'black' is to use the setdefault() method:\n",
    "spam.setdefault('color', 'black')\n",
    "\n"
   ]
  },
  {
   "cell_type": "code",
   "execution_count": 2,
   "id": "0b82d912",
   "metadata": {},
   "outputs": [
    {
     "name": "stdout",
     "output_type": "stream",
     "text": [
      "{'age': 30, 'city': 'New York', 'name': 'John'}\n"
     ]
    }
   ],
   "source": [
    "'''8.\n",
    "To \"pretty print\" dictionary values, you can use the pprint module's pprint() function. Here's an example of how to use it'''\n",
    "import pprint\n",
    "\n",
    "my_dict = {'name': 'John', 'age': 30, 'city': 'New York'}\n",
    "pprint.pprint(my_dict)\n",
    "#This will format and print the dictionary in a more readable way, especially useful for nested dictionaries and complex data structures."
   ]
  },
  {
   "cell_type": "code",
   "execution_count": null,
   "id": "39a02bcc",
   "metadata": {},
   "outputs": [],
   "source": []
  }
 ],
 "metadata": {
  "kernelspec": {
   "display_name": "Python 3 (ipykernel)",
   "language": "python",
   "name": "python3"
  },
  "language_info": {
   "codemirror_mode": {
    "name": "ipython",
    "version": 3
   },
   "file_extension": ".py",
   "mimetype": "text/x-python",
   "name": "python",
   "nbconvert_exporter": "python",
   "pygments_lexer": "ipython3",
   "version": "3.9.12"
  }
 },
 "nbformat": 4,
 "nbformat_minor": 5
}
