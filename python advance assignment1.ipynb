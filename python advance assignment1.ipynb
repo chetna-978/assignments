{
 "cells": [
  {
   "cell_type": "markdown",
   "id": "485632c1",
   "metadata": {},
   "source": [
    "Q1. What is the purpose of Python&#39;s OOP?\n",
    "\n",
    "Q2. Where does an inheritance search look for an attribute?\n",
    "\n",
    "Q3. How do you distinguish between a class object and an instance object?\n",
    "\n",
    "Q4. What makes the first argument in a class’s method function special?\n",
    "\n",
    "Q5. What is the purpose of the __init__ method?\n",
    "\n",
    "Q6. What is the process for creating a class instance?\n",
    "\n",
    "Q7. What is the process for creating a class?\n",
    "\n",
    "Q8. How would you define the superclasses of a class?"
   ]
  },
  {
   "cell_type": "markdown",
   "id": "461e1d0b",
   "metadata": {},
   "source": [
    "Ans 1: The purpose of Python's Object-Oriented Programming (OOP) is to allow developers to structure their code using classes and objects. OOP promotes the concept of modularity and reusability by encapsulating data and behavior into objects. This approach helps in organizing large codebases, improving code readability, and facilitating code maintenance and scalability.\n",
    "\n",
    "Ans 2: Inheritance search for an attribute starts within the instance's class. If the attribute is not found in the class, it then looks in the parent classes (superclasses) in a depth-first, left-right order until the attribute is found or all parent classes are checked.\n",
    "\n",
    "Ans 3:\n",
    "\n",
    "Class Object: Represents the class itself. You can think of it as a blueprint or a factory for creating instances. It has attributes and methods that apply to the class as a whole.\n",
    "Instance Object: An individual, specific realization of a class. It's created based on the class blueprint and has its own set of attributes and values.\n",
    "\n",
    "Ans 4: The first argument in a class's method function, conventionally named self, refers to the instance of the class. This argument is used to access instance variables and other methods within the class. It essentially binds the instance to the method so that you can operate on its data.\n",
    "\n",
    "Ans 5: The __init__ method, also known as the constructor, is used to initialize the attributes of a newly created object. It gets called automatically when an instance of the class is created. The purpose is to set up the initial state of the object by assigning values to its attributes."
   ]
  },
  {
   "cell_type": "markdown",
   "id": "921547b0",
   "metadata": {},
   "source": [
    "Ans 6: The process for creating a class instance involves using the class name as a function. Here's a step-by-step breakdown:\n",
    "\n",
    "Define the class using the class keyword.\n",
    "Inside the class, define the __init__ method to initialize the object's attributes.\n",
    "To create an instance of the class, call the class name as if it were a function, passing any required arguments to the __init__ method.\n",
    "\n"
   ]
  },
  {
   "cell_type": "code",
   "execution_count": 1,
   "id": "2c739e81",
   "metadata": {},
   "outputs": [],
   "source": [
    "class MyClass:\n",
    "    def __init__(self, value):\n",
    "        self.attribute = value\n",
    "\n",
    "# Creating an instance of MyClass\n",
    "obj = MyClass(\"example_value\")\n"
   ]
  },
  {
   "cell_type": "markdown",
   "id": "ba4e6e42",
   "metadata": {},
   "source": [
    "Ans 7: The process for creating a class involves:\n",
    "\n",
    "Use the class keyword followed by the class name to define a new class.\n",
    "Optionally, define class-level attributes and methods inside the class body.\n",
    "Define the __init__ method (if necessary) to initialize instance-specific attributes.\n",
    "Within the class, define other methods as needed.\n",
    "Once the class is defined, you can create instances of the class using the class name followed by parentheses.\n",
    "\n",
    "Ans 8: The superclasses of a class are the classes from which it inherits. In Python, you can define multiple superclasses for a class using multiple inheritance. Superclasses are listed in the parentheses after the class name in the class definition."
   ]
  },
  {
   "cell_type": "markdown",
   "id": "77e59c14",
   "metadata": {},
   "source": [
    "class Parent1:\n",
    "    pass\n",
    "\n",
    "class Parent2:\n",
    "    pass\n",
    "\n",
    "class Child(Parent1, Parent2):\n",
    "    pass\n"
   ]
  },
  {
   "cell_type": "code",
   "execution_count": null,
   "id": "7618c9e9",
   "metadata": {},
   "outputs": [],
   "source": []
  }
 ],
 "metadata": {
  "kernelspec": {
   "display_name": "Python 3 (ipykernel)",
   "language": "python",
   "name": "python3"
  },
  "language_info": {
   "codemirror_mode": {
    "name": "ipython",
    "version": 3
   },
   "file_extension": ".py",
   "mimetype": "text/x-python",
   "name": "python",
   "nbconvert_exporter": "python",
   "pygments_lexer": "ipython3",
   "version": "3.9.12"
  }
 },
 "nbformat": 4,
 "nbformat_minor": 5
}
