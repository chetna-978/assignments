{
 "cells": [
  {
   "cell_type": "markdown",
   "id": "8c9d19b1",
   "metadata": {},
   "source": [
    "Q1. What is the meaning of multiple inheritance?\n",
    "\n",
    "Q2. What is the concept of delegation?\n",
    "\n",
    "Q3. What is the concept of composition?\n",
    "\n",
    "Q4. What are bound methods and how do we use them?\n",
    "\n",
    "Q5. What is the purpose of pseudoprivate attributes?"
   ]
  },
  {
   "cell_type": "markdown",
   "id": "ce9e27d4",
   "metadata": {},
   "source": [
    "Ans 1: Multiple inheritance refers to the capability of a class to inherit attributes and methods from more than one parent class. In Python, a subclass can inherit from multiple classes, allowing it to combine the features and functionalities of its parent classes. This feature enables code reuse and facilitates the creation of complex class hierarchies, but it also introduces challenges such as the Diamond Problem.\n",
    "\n",
    "Ans 2: The concept of delegation refers to the design principle where an object passes a responsibility or task to another object. Instead of performing the task itself, the delegating object delegates or forwards the task to another object, typically a collaborator or a part of its composition. Delegation promotes code reuse, modular design, and separation of concerns, allowing objects to collaborate and work together by leveraging each other's capabilities."
   ]
  },
  {
   "cell_type": "markdown",
   "id": "84cbf9fc",
   "metadata": {},
   "source": [
    "Ans 3: The concept of composition in object-oriented programming refers to the practice of combining simple or smaller objects to create more complex objects. Instead of relying solely on inheritance, composition allows objects to be composed of other objects, forming a part-whole relationship. Through composition, objects can encapsulate and aggregate other objects as components, leading to a more modular, flexible, and maintainable design.\n",
    "\n",
    "Ans 4: Bound methods are methods that are bound to an instance of a class. When a method is bound, the instance (i.e., the object on which the method is called) is automatically passed as the first argument (self) to the method. Bound methods encapsulate the relationship between an instance and its methods, allowing the method to operate on the instance's data. In practice, when you access a method on an instance, Python automatically binds the method to the instance, enabling you to call the method without explicitly passing the instance as an argument."
   ]
  },
  {
   "cell_type": "code",
   "execution_count": 1,
   "id": "db179fc8",
   "metadata": {},
   "outputs": [
    {
     "name": "stdout",
     "output_type": "stream",
     "text": [
      "Bound method called on instance <__main__.MyClass object at 0x000001D808721880>\n"
     ]
    }
   ],
   "source": [
    "class MyClass:\n",
    "    def method(self):\n",
    "        print(f\"Bound method called on instance {self}\")\n",
    "\n",
    "obj = MyClass()\n",
    "bound_method = obj.method  # Accessing the method on the instance\n",
    "bound_method()  # Calling the bound method\n"
   ]
  },
  {
   "cell_type": "markdown",
   "id": "a5c0472c",
   "metadata": {},
   "source": [
    "Ans 5: The purpose of pseudoprivate attributes in Python is to provide a mechanism for name mangling, allowing classes to define attributes that are hidden or \"protected\" from external access but accessible within the class itself and its subclasses. By prefixing an attribute name with two underscores (e.g., __attribute), Python performs name mangling, renaming the attribute to _ClassName__attribute, where ClassName is the name of the class defining the attribute. Pseudoprivate attributes are not truly private or inaccessible; they serve as a naming convention to prevent accidental access and modification from outside the class. They help in encapsulating class internals, preventing unintended interference, and maintaining the integrity of the class's design."
   ]
  },
  {
   "cell_type": "code",
   "execution_count": null,
   "id": "5797ee44",
   "metadata": {},
   "outputs": [],
   "source": []
  }
 ],
 "metadata": {
  "kernelspec": {
   "display_name": "Python 3 (ipykernel)",
   "language": "python",
   "name": "python3"
  },
  "language_info": {
   "codemirror_mode": {
    "name": "ipython",
    "version": 3
   },
   "file_extension": ".py",
   "mimetype": "text/x-python",
   "name": "python",
   "nbconvert_exporter": "python",
   "pygments_lexer": "ipython3",
   "version": "3.9.12"
  }
 },
 "nbformat": 4,
 "nbformat_minor": 5
}
