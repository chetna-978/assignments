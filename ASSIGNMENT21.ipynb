{
 "cells": [
  {
   "cell_type": "markdown",
   "id": "b307a300",
   "metadata": {},
   "source": [
    "1. Add the current date to the text file today.txt as a string.\n",
    "2. Read the text file today.txt into the string today_string\n",
    "3. Parse the date from today_string.\n",
    "4. List the files in your current directory\n",
    "5. Create a list of all of the files in your parent directory (minimum five files should be available).\n",
    "6. Use multiprocessing to create three separate processes. Make each one wait a random number of\n",
    "seconds between one and five, print the current time, and then exit.\n",
    "7. Create a date object of your day of birth.\n",
    "8. What day of the week was your day of birth?\n",
    "9. When will you be (or when were you) 10,000 days old?"
   ]
  },
  {
   "cell_type": "code",
   "execution_count": 1,
   "id": "00f1c41b",
   "metadata": {},
   "outputs": [],
   "source": [
    "#1.\n",
    "from datetime import datetime\n",
    "\n",
    "current_date = datetime.now().strftime('%Y-%m-%d')\n",
    "with open('today.txt', 'w') as file:\n",
    "    file.write(current_date)"
   ]
  },
  {
   "cell_type": "code",
   "execution_count": 2,
   "id": "1ccbcf4c",
   "metadata": {},
   "outputs": [],
   "source": [
    "#2.\n",
    "with open('today.txt', 'r') as file:\n",
    "    today_string = file.read()"
   ]
  },
  {
   "cell_type": "code",
   "execution_count": 3,
   "id": "0367e53f",
   "metadata": {},
   "outputs": [
    {
     "name": "stdout",
     "output_type": "stream",
     "text": [
      "2023-10-02 00:00:00\n"
     ]
    }
   ],
   "source": [
    "#3.\n",
    "from datetime import datetime\n",
    "\n",
    "parsed_date = datetime.strptime(today_string, '%Y-%m-%d')\n",
    "print(parsed_date)"
   ]
  },
  {
   "cell_type": "code",
   "execution_count": 4,
   "id": "333ae786",
   "metadata": {},
   "outputs": [
    {
     "name": "stdout",
     "output_type": "stream",
     "text": [
      "['.anaconda', '.conda', '.condarc', '.continuum', '.cufflinks', '.gitconfig', '.ipynb_checkpoints', '.ipython', '.jupyter', '.matplotlib', '.vscode', '1 . EDA STUDENT PERFORMANCE .ipynb', '3D Objects', 'anaconda3', 'AppData', 'Application Data', 'Assessment 7.ipynb', 'assessment.ipynb', 'assignment no.1', 'assignment no.1.ipynb', 'ASSIGNMENT1.ipynb', 'ASSIGNMENT11.ipynb', 'ASSIGNMENT12.ipynb', 'ASSIGNMENT13.ipynb', 'ASSIGNMENT14.ipynb', 'ASSIGNMENT15.ipynb', 'ASSIGNMENT16.ipynb', 'ASSIGNMENT17.ipynb', 'ASSIGNMENT18.ipynb', 'ASSIGNMENT19.ipynb', 'ASSIGNMENT2.ipynb', 'ASSIGNMENT20.ipynb', 'ASSIGNMENT21.ipynb', 'ASSIGNMENT3.ipynb', 'ASSIGNMENT4.ipynb', 'ASSIGNMENT5.ipynb', 'ASSIGNMENT6.ipynb', 'ASSIGNMENT7.ipynb', 'ASSIGNMENT8.ipynb', 'ASSIGNMENT9.ipynb', 'aug_train.csv', 'AWS_ECR_LOGIN_URI.txt', 'BullseyeCoverageError.txt', 'cd', 'Contacts', 'Cookies', 'Credit Card Default Data EDA and Preprocessing.ipynb', 'Customer Personality Analysis.csv', 'DATA-SCIENCE   ASSIGNMENT 9.ipynb', 'DATA-SCIENCE ASSIGNMENT 3.ipynb', 'DATA-SCIENCE ASSIGNMENT 4.ipynb', 'DATA-SCIENCE ASSIGNMENT 5.ipynb', 'DATA-SCIENCE ASSIGNMENT 6.ipynb', 'DATA-SCIENCE ASSIGNMENT 7.ipynb', 'DATA-SCIENCE ASSIGNMENT 8.ipynb', 'data.csv', 'data.xlsx', 'dataingestion.txt', 'data_2genre.csv', 'Documents', 'Downloads', 'DSA  Assignment 5.ipynb', 'DSA Assessment 10.ipynb', 'DSA Assessment 11.ipynb', 'DSA Assessment 12.ipynb', 'DSA Assessment 9.ipynb', 'DSA Assessment13.ipynb', 'DSA Assessment8.ipynb', 'DSA Assignment 18.ipynb', 'DSA Assignment 2.ipynb', 'DSA Assignment 3.ipynb', 'DSA Assignment 4.ipynb', 'DSA Assignment 6.ipynb', 'DSA Assignment queue.ipynb', 'DSA Assignment stack 2.ipynb', 'DSA Assignment stack1.ipynb', 'dsa assingnment.ipynb', 'ec2.txt', 'EDA 1.ipynb', 'exception handling 2.ipynb', 'exception handling.ipynb', 'Favorites', 'financial aid.txt', 'fsds-EDA.ipynb', 'hr_preprocessed.csv', 'instagram_reach.csv', 'IntelGraphicsProfiles', 'Links', 'Local Settings', 'LOOPS.ipynb', 'me.txt', 'ml assessment.ipynb', 'mock test 1.ipynb', 'mock test 3.ipynb', 'MOCKTEST1.ipynb', 'MockTest2.ipynb', 'mongopassword.txt', 'Music', 'My Documents', 'my_pass.txt', 'NetHood', 'News_Category_Dataset_v3.json', 'NTUSER.DAT', 'ntuser.dat.LOG1', 'ntuser.dat.LOG2', 'NTUSER.DAT{a75bd904-123d-11ee-83bf-bb8c05d24d1e}.TxR.0.regtrans-ms', 'NTUSER.DAT{a75bd904-123d-11ee-83bf-bb8c05d24d1e}.TxR.1.regtrans-ms', 'NTUSER.DAT{a75bd904-123d-11ee-83bf-bb8c05d24d1e}.TxR.2.regtrans-ms', 'NTUSER.DAT{a75bd904-123d-11ee-83bf-bb8c05d24d1e}.TxR.blf', 'NTUSER.DAT{a75bd905-123d-11ee-83bf-bb8c05d24d1e}.TM.blf', 'NTUSER.DAT{a75bd905-123d-11ee-83bf-bb8c05d24d1e}.TMContainer00000000000000000001.regtrans-ms', 'NTUSER.DAT{a75bd905-123d-11ee-83bf-bb8c05d24d1e}.TMContainer00000000000000000002.regtrans-ms', 'ntuser.ini', 'ObesityDataSet_raw_and_data_sinthetic.csv', 'OneDrive', 'online_shoppers_intention.csv', 'output.html', 'pandas class 3 - with task .ipynb', 'PC.txt', 'placement interview file.ipynb', 'Postman', 'PrintHood', 'PycharmProjects', 'Raw EDA and Preprocessing imp..ipynb', 'raw statistics.ipynb', 'Recent', 'resume.txt', 'rideshare_kaggle.csv', 'Saved Games', 'seaborn-data', 'search.txt', 'Searches', 'SendTo', 'Start Menu', 'statistics assessment.ipynb', 'student.csv', 'student_performance.zip', 'task 1.ipynb', 'Templates', 'today.txt', 'Tracing', 'train.csv', 'UCI_Credit_Card.csv', 'Untitled.ipynb', 'untitled.txt', 'Untitled1.ipynb', 'Untitled10.ipynb', 'Untitled11.ipynb', 'Untitled12.ipynb', 'Untitled13.ipynb', 'Untitled14.ipynb', 'Untitled15.ipynb', 'Untitled16.ipynb', 'Untitled17.ipynb', 'Untitled18.ipynb', 'Untitled19.ipynb', 'Untitled2.ipynb', 'Untitled20.ipynb', 'Untitled21.ipynb', 'Untitled22.ipynb', 'Untitled23.ipynb', 'Untitled24.ipynb', 'Untitled3.ipynb', 'Untitled4.ipynb', 'Untitled5.ipynb', 'Untitled6.ipynb', 'Untitled7.ipynb', 'Untitled8.ipynb', 'Untitled9.ipynb', 'Videos']\n"
     ]
    }
   ],
   "source": [
    "#4.\n",
    "import os\n",
    "\n",
    "current_directory = os.getcwd()\n",
    "files_in_current_directory = os.listdir(current_directory)\n",
    "print(files_in_current_directory)"
   ]
  },
  {
   "cell_type": "code",
   "execution_count": 5,
   "id": "89776d77",
   "metadata": {},
   "outputs": [
    {
     "name": "stdout",
     "output_type": "stream",
     "text": [
      "['abhis', 'All Users', 'Default', 'Default User', 'DefaultAppPool']\n"
     ]
    }
   ],
   "source": [
    "#5.\n",
    "parent_directory = os.path.dirname(current_directory)\n",
    "files_in_parent_directory = os.listdir(parent_directory)\n",
    "print(files_in_parent_directory[:5])  # Display the first five files"
   ]
  },
  {
   "cell_type": "code",
   "execution_count": 6,
   "id": "604bcc32",
   "metadata": {},
   "outputs": [],
   "source": [
    "#6.\n",
    "import multiprocessing\n",
    "import time\n",
    "import random\n",
    "\n",
    "def worker():\n",
    "    wait_time = random.randint(1, 5)\n",
    "    time.sleep(wait_time)\n",
    "    current_time = time.strftime('%Y-%m-%d %H:%M:%S', time.localtime())\n",
    "    print(f\"Process {multiprocessing.current_process().name} - Current time: {current_time}\")\n",
    "\n",
    "if __name__ == \"__main__\":\n",
    "    processes = []\n",
    "\n",
    "    for i in range(3):\n",
    "        process = multiprocessing.Process(target=worker)\n",
    "        process.start()\n",
    "        processes.append(process)\n",
    "\n",
    "    for process in processes:\n",
    "        process.join()"
   ]
  },
  {
   "cell_type": "code",
   "execution_count": 10,
   "id": "a4555d03",
   "metadata": {},
   "outputs": [],
   "source": [
    "#7.\n",
    "from datetime import date\n",
    "\n",
    "# Replace with your actual birthdate\n",
    "birthdate = date(2001, 1, 1)"
   ]
  },
  {
   "cell_type": "code",
   "execution_count": 11,
   "id": "1a51ab94",
   "metadata": {},
   "outputs": [
    {
     "name": "stdout",
     "output_type": "stream",
     "text": [
      "Day of the week for your birthdate: Monday\n"
     ]
    }
   ],
   "source": [
    "#8.\n",
    "day_of_week = birthdate.strftime('%A')\n",
    "print(f\"Day of the week for your birthdate: {day_of_week}\")"
   ]
  },
  {
   "cell_type": "code",
   "execution_count": 12,
   "id": "776fbe14",
   "metadata": {},
   "outputs": [
    {
     "name": "stdout",
     "output_type": "stream",
     "text": [
      "You will be (or were) 10,000 days old on: 2028-05-19\n"
     ]
    }
   ],
   "source": [
    "#9.\n",
    "from datetime import timedelta\n",
    "\n",
    "future_date = birthdate + timedelta(days=10000)\n",
    "print(f\"You will be (or were) 10,000 days old on: {future_date}\")"
   ]
  },
  {
   "cell_type": "code",
   "execution_count": null,
   "id": "9197193f",
   "metadata": {},
   "outputs": [],
   "source": []
  }
 ],
 "metadata": {
  "kernelspec": {
   "display_name": "Python 3 (ipykernel)",
   "language": "python",
   "name": "python3"
  },
  "language_info": {
   "codemirror_mode": {
    "name": "ipython",
    "version": 3
   },
   "file_extension": ".py",
   "mimetype": "text/x-python",
   "name": "python",
   "nbconvert_exporter": "python",
   "pygments_lexer": "ipython3",
   "version": "3.9.12"
  }
 },
 "nbformat": 4,
 "nbformat_minor": 5
}
