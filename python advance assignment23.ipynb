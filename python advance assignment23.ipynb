{
 "cells": [
  {
   "cell_type": "markdown",
   "id": "02f72d71",
   "metadata": {},
   "source": [
    "Q1. If you have any, what are your choices for increasing the comparison between different figures on\n",
    "the same graph?\n",
    "\n",
    "Q2. Can you explain the benefit of compound interest over a higher rate of interest that does not\n",
    "compound after reading this chapter?\n",
    "\n",
    "Q3. What is a histogram, exactly? Name a numpy method for creating such a graph.\n",
    "\n",
    "Q4. If necessary, how do you change the aspect ratios between the X and Y axes?\n",
    "\n",
    "Q5. Compare and contrast the three types of array multiplication between two numpy arrays: dot\n",
    "product, outer product, and regular multiplication of two numpy arrays.\n",
    "\n",
    "Q6. Before you buy a home, which numpy function will you use to measure your monthly mortgage\n",
    "payment?\n",
    "\n",
    "Q7. Can string data be stored in numpy arrays? If so, list at least one restriction that applies to this\n",
    "data."
   ]
  },
  {
   "cell_type": "markdown",
   "id": "37e829bd",
   "metadata": {},
   "source": [
    "Q1. Increasing Comparison between Figures on the Same Graph:\n",
    "\n",
    "Choices: Some options include adjusting the color, linestyle, or marker style for each figure, using labels and a legend to differentiate, or employing transparency with the alpha parameter for better visualization.\n",
    "\n",
    "Q2. Benefit of Compound Interest:\n",
    "\n",
    "Benefit: Compound interest allows for interest to be calculated not only on the initial principal but also on the accumulated interest from previous periods. This leads to exponential growth, resulting in higher returns over time compared to simple interest.\n",
    "\n",
    "Q3. Histogram and Numpy Method:\n",
    "\n",
    "Definition: A histogram is a graphical representation of the distribution of a dataset. In a histogram, data is divided into bins, and the frequency of occurrences in each bin is represented by the height of bars.\n",
    "Numpy Method: numpy.histogram() is used to create histograms in numpy.\n",
    "\n",
    "Q4. Changing Aspect Ratios between X and Y Axes:\n",
    "\n",
    "Method: You can use matplotlib.pyplot.gca().set_aspect('equal', adjustable='box') to set equal aspect ratios between the X and Y axes.\n",
    "\n",
    "Q5. Types of Array Multiplication in Numpy:\n",
    "\n",
    "Dot Product: In numpy, the dot product is obtained using numpy.dot() or the @ operator.\n",
    "Outer Product: The outer product is calculated using numpy.outer().\n",
    "Regular Multiplication: Regular element-wise multiplication is done using the * operator.\n",
    "\n",
    "Q6. Numpy Function for Monthly Mortgage Payment:\n",
    "\n",
    "Function: numpy.pmt() can be used to calculate the monthly mortgage payment.\n",
    "\n",
    "Q7. Storing String Data in Numpy Arrays:\n",
    "\n",
    "Possibility: Yes, string data can be stored in numpy arrays.\n",
    "Restriction: The main restriction is that all elements in a numpy array must have the same data type. So, a numpy array with strings must have a fixed-size string type, and all strings in the array must be of the same length."
   ]
  },
  {
   "cell_type": "code",
   "execution_count": null,
   "id": "ef9ed89e",
   "metadata": {},
   "outputs": [],
   "source": []
  }
 ],
 "metadata": {
  "kernelspec": {
   "display_name": "Python 3 (ipykernel)",
   "language": "python",
   "name": "python3"
  },
  "language_info": {
   "codemirror_mode": {
    "name": "ipython",
    "version": 3
   },
   "file_extension": ".py",
   "mimetype": "text/x-python",
   "name": "python",
   "nbconvert_exporter": "python",
   "pygments_lexer": "ipython3",
   "version": "3.9.12"
  }
 },
 "nbformat": 4,
 "nbformat_minor": 5
}
