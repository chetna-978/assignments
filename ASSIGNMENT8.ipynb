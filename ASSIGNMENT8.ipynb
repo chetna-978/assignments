{
 "cells": [
  {
   "cell_type": "markdown",
   "id": "c865e6dc",
   "metadata": {},
   "source": [
    "1. Is the Python Standard Library included with PyInputPlus?\n",
    "2. Why is PyInputPlus commonly imported with import pyinputplus as pypi?\n",
    "3. How do you distinguish between inputInt() and inputFloat()?\n",
    "4. Using PyInputPlus, how do you ensure that the user enters a whole number between 0 and 99?\n",
    "5. What is transferred to the keyword arguments allowRegexes and blockRegexes?\n",
    "6. If a blank input is entered three times, what does inputStr(limit=3) do?\n",
    "7. If blank input is entered three times, what does inputStr(limit=3, default=&#39;hello&#39;) do?"
   ]
  },
  {
   "cell_type": "markdown",
   "id": "1a838058",
   "metadata": {},
   "source": [
    "1.The Python Standard Library is not included with PyInputPlus. PyInputPlus is a separate Python library used for input validation and handling, and it is not bundled with the standard library.\n",
    "\n",
    "2.PyInputPlus is commonly imported with import pyinputplus as pypi to make the code more concise and readable. By using as pypi, you create an alias for the module, allowing you to use shorter and more convenient names when calling its functions. It's a common convention to use pypi as an alias for PyInputPlus, but you can choose any alias you prefer.\n",
    "\n",
    "3.inputInt() and inputFloat() are two functions provided by PyInputPlus to accept integer and floating-point input, respectively. You can distinguish between them by using the specific function depending on the type of input you expect. Use inputInt() when you want to ensure the user enters an integer and inputFloat() when you expect a floating-point number.\n",
    "\n",
    "4.To ensure that the user enters a whole number between 0 and 99 using PyInputPlus, you can use the inputInt() function with the min and max keyword arguments set as follows:\n",
    "\n",
    "import pyinputplus as pyip\n",
    "\n",
    "user_input = pyip.inputInt(prompt=\"Enter a whole number between 0 and 99: \", min=0, max=99)\n",
    "This code prompts the user to enter an integer and ensures it falls within the specified range.\n",
    "\n",
    "5.The allowRegexes and blockRegexes keyword arguments in PyInputPlus allow you to specify lists of regular expressions. These regexes are used to allow or block certain patterns of input. If a user's input matches any of the regular expressions in allowRegexes, it is considered valid. Conversely, if it matches any of the regular expressions in blockRegexes, it is considered invalid, and the user is prompted to enter a different input.\n",
    "\n",
    "6.If a blank input is entered three times using inputStr(limit=3), PyInputPlus will raise a pyinputplus.RetryLimitException with an error message indicating that the maximum number of retries has been reached. This is because limit=3 specifies that the user is allowed three attempts to enter valid input, and if they enter a blank input three times in a row, they have exhausted their retries.\n",
    "\n",
    "7.If blank input is entered three times using inputStr(limit=3, default='hello'), PyInputPlus will not raise an exception. Instead, it will return the default value 'hello' after the third attempt. The default keyword argument specifies the value to be returned when the user exceeds the retry limit. In this case, if the user enters blank input three times, the function will return 'hello' as the default value."
   ]
  },
  {
   "cell_type": "code",
   "execution_count": null,
   "id": "f8f3d8ce",
   "metadata": {},
   "outputs": [],
   "source": []
  }
 ],
 "metadata": {
  "kernelspec": {
   "display_name": "Python 3 (ipykernel)",
   "language": "python",
   "name": "python3"
  },
  "language_info": {
   "codemirror_mode": {
    "name": "ipython",
    "version": 3
   },
   "file_extension": ".py",
   "mimetype": "text/x-python",
   "name": "python",
   "nbconvert_exporter": "python",
   "pygments_lexer": "ipython3",
   "version": "3.9.12"
  }
 },
 "nbformat": 4,
 "nbformat_minor": 5
}
