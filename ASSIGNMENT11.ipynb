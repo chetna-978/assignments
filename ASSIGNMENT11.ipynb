{
 "cells": [
  {
   "cell_type": "markdown",
   "id": "769f287c",
   "metadata": {},
   "source": [
    "1. What assert statement checks for a negative integer in `spam`?\n",
    "   - `assert spam >= 0, \"spam should not be a negative integer\"`\n",
    "\n",
    "2. How can you assert that `eggs` and `bacon` strings are not the same, irrespective of their cases?\n",
    "   - `assert eggs.lower() != bacon.lower(), \"eggs and bacon should not be the same (case-insensitive)\"`\n",
    "\n",
    "3. What assert statement always triggers an AssertionError?\n",
    "   - `assert False, \"This assertion always raises an AssertionError\"`\n",
    "\n",
    "4. Which two lines are essential to call `logging.debug()`?\n",
    "   - `import logging` and `logging.basicConfig(level=logging.DEBUG)`\n",
    "\n",
    "5. How do you configure `logging.debug()` to log messages to a file named `programLog.txt`?\n",
    "   - Add the line: `logging.basicConfig(filename='programLog.txt', level=logging.DEBUG)`\n",
    "\n",
    "6. List the five levels of logging in increasing severity.\n",
    "   - DEBUG, INFO, WARNING, ERROR, CRITICAL\n",
    "\n",
    "7. How can you disable all logging messages?\n",
    "   - Set the logging level higher than CRITICAL: `logging.basicConfig(level=logging.CRITICAL)`\n",
    "\n",
    "8. Why might one prefer logging messages over print() for displaying messages?\n",
    "   - Logging allows for message verbosity control, output redirection, context-rich messages, and selective enabling/disabling without interfering with program output.\n",
    "\n",
    "9. What are the functionalities of the Step Over, Step In, and Step Out buttons in a debugger?\n",
    "   - Step Over: Executes current line, moves to next.\n",
    "   - Step In: If in function, enters the function; else, behaves like Step Over.\n",
    "   - Step Out: Continues until current function ends, stops at caller line.\n",
    "\n",
    "10. When will a debugger pause after you click \"Continue\"?\n",
    "   - At the next breakpoint, upon encountering an unhandled exception, or when the program completes.\n",
    "\n",
    "11. Define a breakpoint.\n",
    "   - A designated point in code where debugger pauses, enabling variable inspection and step-by-step code execution.\n"
   ]
  },
  {
   "cell_type": "code",
   "execution_count": null,
   "id": "7ab322ab",
   "metadata": {},
   "outputs": [],
   "source": []
  }
 ],
 "metadata": {
  "kernelspec": {
   "display_name": "Python 3 (ipykernel)",
   "language": "python",
   "name": "python3"
  },
  "language_info": {
   "codemirror_mode": {
    "name": "ipython",
    "version": 3
   },
   "file_extension": ".py",
   "mimetype": "text/x-python",
   "name": "python",
   "nbconvert_exporter": "python",
   "pygments_lexer": "ipython3",
   "version": "3.9.12"
  }
 },
 "nbformat": 4,
 "nbformat_minor": 5
}
