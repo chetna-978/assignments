{
 "cells": [
  {
   "cell_type": "markdown",
   "id": "41bda881",
   "metadata": {},
   "source": [
    "1. How many seconds are in an hour? Use the interactive interpreter as a calculator and multiply the number of seconds in a minute (60) by the number of minutes in an hour (also 60).\n",
    "   - sol. 60\n",
    "\n",
    "2. Assign the result from the previous task (seconds in an hour) to a variable called seconds_per_hour.\n",
    "   - seconds_per_hour = 60 * 60\n",
    "\n",
    "3. How many seconds do you think there are in a day? Make use of the variables seconds per hour and minutes per hour.\n",
    "   - sol. There are 24 hours in a day. Therefore, seconds_per_day = seconds_per_hour * 24\n",
    "\n",
    "4. Calculate seconds per day again, but this time save the result in a variable called seconds_per_day\n",
    "   - seconds_per_day = seconds_per_hour * 24\n",
    "\n",
    "5. Divide seconds_per_day by seconds_per_hour. Use floating-point (/) division.\n",
    "   - result = seconds_per_day / seconds_per_hour\n",
    "\n",
    "6. Divide seconds_per_day by seconds_per_hour, using integer (//) division. Did this number agree with the floating-point value from the previous question, aside from the final .0?\n",
    "   - integer_result = seconds_per_day // seconds_per_hour\n",
    "\n",
    "7. Write a generator, genPrimes, that returns the sequence of prime numbers on successive calls to its next() method: 2, 3, 5, 7, 11, ...\n"
   ]
  },
  {
   "cell_type": "code",
   "execution_count": 3,
   "id": "aaa1b527",
   "metadata": {},
   "outputs": [],
   "source": [
    "   # Here's the implementation of the genPrimes generator:\n",
    "def genPrimes():\n",
    "    primes = [2]\n",
    "    num = 3\n",
    "    while True:\n",
    "        if all(num % p != 0 for p in primes):\n",
    "                primes.append(num)\n",
    "                yield num\n",
    "        num += 2"
   ]
  },
  {
   "cell_type": "code",
   "execution_count": null,
   "id": "30e8067c",
   "metadata": {},
   "outputs": [],
   "source": []
  }
 ],
 "metadata": {
  "kernelspec": {
   "display_name": "Python 3 (ipykernel)",
   "language": "python",
   "name": "python3"
  },
  "language_info": {
   "codemirror_mode": {
    "name": "ipython",
    "version": 3
   },
   "file_extension": ".py",
   "mimetype": "text/x-python",
   "name": "python",
   "nbconvert_exporter": "python",
   "pygments_lexer": "ipython3",
   "version": "3.9.12"
  }
 },
 "nbformat": 4,
 "nbformat_minor": 5
}
