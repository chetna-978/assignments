{
 "cells": [
  {
   "cell_type": "markdown",
   "id": "a02ad607",
   "metadata": {},
   "source": [
    "1. What are escape characters, and how do you use them?\n",
    "   - Escape characters are special characters used in strings to represent characters that are difficult or impossible to type directly in code. They are prefixed with a backslash. For example, '\\n' represents a newline character.\n",
    "\n",
    "2. What do the escape characters n and t stand for?\n",
    "   - The escape characters \\n stands for a newline, and \\t stands for a tab.\n",
    "\n",
    "3. What is the way to include backslash characters in a string?\n",
    "   - To include a backslash character in a string, you need to escape it with another backslash. For example, to include a single backslash in a string, you write '\\'.\n",
    "\n",
    "4. The string \"Howl's Moving Castle\" is a correct value. Why isn't the single quote character in the word Howl's not escaped a problem?\n",
    "   - The string \"Howl's Moving Castle\" is a correct value because the single quote character inside the word \"Howl's\" is not an issue. This is because the string is enclosed in double quotes \"...\". You can use single quotes within double-quoted strings and vice versa without needing to escape them.\n",
    "\n",
    "5. How do you write a string of newlines if you don't want to use the n character?\n",
    "   - To write a string of newlines without using the \\n character, you can use triple-quoted strings (either single or double quotes):\n",
    "     ```\n",
    "     multiline_string = ''' Line 1 Line 2 Line 3 '''\n",
    "     ```\n",
    "\n",
    "6. What are the values of the given expressions? 'Hello, world!'[1] 'Hello, world!'[0:5] 'Hello, world!'[:5] 'Hello, world!'[3:]\n",
    "   - 'Hello, world!'[1] - 'e'\n",
    "   - 'Hello, world!'[0:5] - 'Hello'\n",
    "   - 'Hello, world!'[:5] - 'Hello'\n",
    "   - 'Hello, world!'[3:] - 'lo, world!'\n",
    "\n",
    "7. What are the values of the following expressions? 'Hello'.upper() 'Hello'.upper().isupper() 'Hello'.upper().lower()\n",
    "   - 'Hello'.upper() - 'HELLO'\n",
    "   - 'Hello'.upper().isupper() - True\n",
    "   - 'Hello'.upper().lower() - 'hello'\n",
    "\n",
    "8. What are the values of the following expressions? 'Remember, remember, the fifth of July.'.split() '-'.join('There can only one.'.split())\n",
    "   - 'Remember, remember, the fifth of July.'.split() - ['Remember,', 'remember,', 'the', 'fifth', 'of', 'July.']\n",
    "   - '-'.join('There can only one.'.split()) - 'There-can-only-be-one.'\n",
    "\n",
    "9. What are the methods for right-justifying, left-justifying, and centering a string?\n",
    "   - Right-justifying: str.rjust(width)\n",
    "   - Left-justifying: str.ljust(width)\n",
    "   - Centering: str.center(width)\n",
    "\n",
    "10. What is the best way to remove whitespace characters from the start or end?\n",
    "    - The best way to remove whitespace characters (spaces, tabs, newlines) from the start or end of a string is to use the strip() method:\n",
    "      ```\n",
    "      my_string = ' Hello, world! '\n",
    "      stripped_string = my_string.strip()\n",
    "      ```\n"
   ]
  },
  {
   "cell_type": "code",
   "execution_count": null,
   "id": "3e5e95a2",
   "metadata": {},
   "outputs": [],
   "source": []
  }
 ],
 "metadata": {
  "kernelspec": {
   "display_name": "Python 3 (ipykernel)",
   "language": "python",
   "name": "python3"
  },
  "language_info": {
   "codemirror_mode": {
    "name": "ipython",
    "version": 3
   },
   "file_extension": ".py",
   "mimetype": "text/x-python",
   "name": "python",
   "nbconvert_exporter": "python",
   "pygments_lexer": "ipython3",
   "version": "3.9.12"
  }
 },
 "nbformat": 4,
 "nbformat_minor": 5
}
