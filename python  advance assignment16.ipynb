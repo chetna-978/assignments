{
 "cells": [
  {
   "cell_type": "markdown",
   "id": "220e367a",
   "metadata": {},
   "source": [
    "Q1. What is the benefit of regular expressions?\n",
    "\n",
    "Q2. Describe the difference between the effects of &quot;(ab)c+&quot; and &quot;a(bc)+.&quot; Which of these, if any, is the\n",
    "unqualified pattern &quot;abc+&quot;?\n",
    "\n",
    "Q3. How much do you need to use the following sentence while using regular expressions?\n",
    "\n",
    "import re\n",
    "\n",
    "Q4. Which characters have special significance in square brackets when expressing a range, and\n",
    "under what circumstances?\n",
    "\n",
    "Q5. How does compiling a regular-expression object benefit you?\n",
    "\n",
    "Q6. What are some examples of how to use the match object returned by re.match and re.search?\n",
    "\n",
    "Q7. What is the difference between using a vertical bar (|) as an alteration and using square brackets\n",
    "as a character set?\n",
    "\n",
    "Q8. In regular-expression search patterns, why is it necessary to use the raw-string indicator (r)? In  \n",
    "replacement strings?"
   ]
  },
  {
   "cell_type": "markdown",
   "id": "dd27b43d",
   "metadata": {},
   "source": [
    "Ans:1\n",
    "Benefits of Regular Expressions:\n",
    "Pattern Matching: Allows for precise pattern matching within strings.\n",
    "Text Search and Manipulation: Useful for searching, replacing, and manipulating text.\n",
    "Validation: Validates and enforces patterns for input data.\n",
    "Extraction: Extracts specific information from complex data.\n",
    "Versatility: Provides a concise and powerful language for expressing complex string patterns."
   ]
  },
  {
   "cell_type": "markdown",
   "id": "3019da3d",
   "metadata": {},
   "source": [
    "Ans:2\n",
    "\n",
    "\"(ab)c+\":\n",
    "\n",
    "Matches sequences where \"ab\" is followed by one or more occurrences of \"c.\"\n",
    "\"a(bc)+\":\n",
    "\n",
    "Matches sequences where \"a\" is followed by one or more occurrences of \"bc.\"\n",
    "\"abc+\":\n",
    "\n",
    "Matches sequences where \"ab\" is followed by one or more occurrences of \"c.\""
   ]
  },
  {
   "cell_type": "markdown",
   "id": "79c8cd56",
   "metadata": {},
   "source": [
    "Ans:3\n",
    "The sentence import re is necessary when using regular expressions in Python. It imports the re module, which provides functions and classes for working with regular expressions."
   ]
  },
  {
   "cell_type": "markdown",
   "id": "c456c210",
   "metadata": {},
   "source": [
    "Ans:4\n",
    "Inside square brackets, certain characters have special significance:\n",
    "Dash (-): Indicates a range of characters. For example, [a-z] represents all lowercase letters.\n",
    "Caret (^): When placed at the beginning, it negates the character set. For example, [^0-9] matches any character that is not a digit."
   ]
  },
  {
   "cell_type": "markdown",
   "id": "1980893f",
   "metadata": {},
   "source": [
    "Ans:5\n",
    "Compiling a regular expression using re.compile() provides efficiency benefits:\n",
    "Performance: The compiled object is optimized for repeated use, making subsequent matching operations faster.\n",
    "Readability: Allows you to give a descriptive name to the pattern, improving code readability."
   ]
  },
  {
   "cell_type": "code",
   "execution_count": 2,
   "id": "f720e544",
   "metadata": {},
   "outputs": [
    {
     "name": "stdout",
     "output_type": "stream",
     "text": [
      "No match found.\n"
     ]
    }
   ],
   "source": [
    "#Ans:6\n",
    "#The match object provides information about the match:\n",
    "import re\n",
    "\n",
    "pattern = re.compile(r'\\d+')\n",
    "text = 'The price is $20.'\n",
    "\n",
    "# Using re.match\n",
    "match_object = pattern.match(text)\n",
    "\n",
    "if match_object:\n",
    "    print(match_object.group())  # Output: 20\n",
    "else:\n",
    "    print(\"No match found.\")\n"
   ]
  },
  {
   "cell_type": "markdown",
   "id": "4cfd91db",
   "metadata": {},
   "source": [
    "Ans:7\n",
    "Vertical Bar (|): Represents alternation, matching either of the specified alternatives. For example, cat|dog matches either \"cat\" or \"dog.\"\n",
    "\n",
    "Square Brackets ([]): Represents a character set, matching any one of the characters inside the brackets. For example, [aeiou] matches any vowel."
   ]
  },
  {
   "cell_type": "markdown",
   "id": "fd4986d0",
   "metadata": {},
   "source": [
    "Ans:8\n",
    "The raw-string indicator (r) in regular expressions is used to treat backslashes (\\) literally. Backslashes are escape characters in regular strings, and using raw strings helps avoid unintended escape sequences. It is particularly important when working with regular expressions, where backslashes are often used for special characters."
   ]
  },
  {
   "cell_type": "code",
   "execution_count": null,
   "id": "e989b241",
   "metadata": {},
   "outputs": [],
   "source": []
  }
 ],
 "metadata": {
  "kernelspec": {
   "display_name": "Python 3 (ipykernel)",
   "language": "python",
   "name": "python3"
  },
  "language_info": {
   "codemirror_mode": {
    "name": "ipython",
    "version": 3
   },
   "file_extension": ".py",
   "mimetype": "text/x-python",
   "name": "python",
   "nbconvert_exporter": "python",
   "pygments_lexer": "ipython3",
   "version": "3.9.12"
  }
 },
 "nbformat": 4,
 "nbformat_minor": 5
}
