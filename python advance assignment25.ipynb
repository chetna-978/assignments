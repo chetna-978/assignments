{
 "cells": [
  {
   "cell_type": "markdown",
   "id": "5fb45975",
   "metadata": {},
   "source": [
    "Q1. What is the distinction between a numpy array and a pandas data frame? Is there a way to\n",
    "convert between the two if there is?\n",
    "\n",
    "Q2. What can go wrong when an user enters in a stock-ticker symbol, and how do you handle it?\n",
    "\n",
    "Q3. Identify some of the plotting techniques that are used to produce a stock-market chart.\n",
    "\n",
    "Q4. Why is it essential to print a legend on a stock market chart?\n",
    "\n",
    "Q5. What is the best way to limit the length of a pandas data frame to less than a year?\n",
    "\n",
    "Q6. What is the definition of a 180-day moving average?\n",
    "\n",
    "Q7. Did the chapter&#39;s final example use &quot;indirect&quot; importing? If so, how exactly do you do it?"
   ]
  },
  {
   "cell_type": "markdown",
   "id": "0b0ba598",
   "metadata": {},
   "source": [
    "Q1. Distinction between Numpy Array and Pandas Data Frame:\n",
    "\n",
    "Distinction: Numpy arrays are homogeneous, multi-dimensional arrays, while Pandas DataFrames are two-dimensional, tabular data structures with labeled axes (rows and columns). You can convert between them using numpy.array() or pandas.DataFrame().\n",
    "\n",
    "Q2. Handling User-Entered Stock Ticker:\n",
    "\n",
    "Challenges: User input may contain errors, non-existent symbols, or invalid characters. Handling involves validation, error-checking, and possibly providing suggestions for valid symbols.\n",
    "\n",
    "Q3. Plotting Techniques for Stock Market Chart:\n",
    "\n",
    "Techniques: Candlestick charts, line charts, OHLC (Open-High-Low-Close) charts, moving averages, and Bollinger Bands are common techniques for visualizing stock market data.\n",
    "\n",
    "Q4. Importance of Legend on Stock Market Chart:\n",
    "\n",
    "Essentiality: A legend on a stock market chart provides clarity by explaining the meaning of different elements (lines, bars) plotted on the chart, such as stock prices, moving averages, or other indicators.\n",
    "\n",
    "Q5. Limiting Length of Pandas Data Frame to Less Than a Year:\n",
    "\n",
    "Method: You can limit the length by filtering the DataFrame based on the date column. For example, using df[df['Date'] >= '2023-01-01'] to keep data from January 1, 2023, onward.\n",
    "\n",
    "Q6. Definition of a 180-Day Moving Average:\n",
    "\n",
    "Definition: A 180-day moving average is the average of a stock's closing prices over the last 180 days. It smoothens short-term fluctuations and highlights the longer-term trend.\n",
    "\n",
    "Q7. Indirect Importing in the Chapter's Final Example:\n",
    "\n",
    "Possibly: Indirect importing may involve importing functions or modules within another module or script. It is not explicitly mentioned, but it could be inferred from the use of functions from different sources. Indirect importing is achieved by importing specific functions or objects using syntax like from module import function."
   ]
  },
  {
   "cell_type": "code",
   "execution_count": null,
   "id": "760de3ca",
   "metadata": {},
   "outputs": [],
   "source": []
  }
 ],
 "metadata": {
  "kernelspec": {
   "display_name": "Python 3 (ipykernel)",
   "language": "python",
   "name": "python3"
  },
  "language_info": {
   "codemirror_mode": {
    "name": "ipython",
    "version": 3
   },
   "file_extension": ".py",
   "mimetype": "text/x-python",
   "name": "python",
   "nbconvert_exporter": "python",
   "pygments_lexer": "ipython3",
   "version": "3.9.12"
  }
 },
 "nbformat": 4,
 "nbformat_minor": 5
}
