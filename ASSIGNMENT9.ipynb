{
 "cells": [
  {
   "cell_type": "markdown",
   "id": "d549a246",
   "metadata": {},
   "source": [
    "1. To what does a relative path refer?\n",
    "2. What does an absolute path start with your operating system?\n",
    "3. What do the functions os.getcwd() and os.chdir() do?\n",
    "4. What are the . and .. folders?\n",
    "5. In C:\\bacon\\eggs\\spam.txt, which part is the dir name, and which part is the base name?\n",
    "6. What are the three “mode” arguments that can be passed to the open() function?\n",
    "7. What happens if an existing file is opened in write mode?\n",
    "8. How do you tell the difference between read() and readlines()?\n",
    "9. What data structure does a shelf value resemble?"
   ]
  },
  {
   "cell_type": "markdown",
   "id": "6b3b7386",
   "metadata": {},
   "source": [
    "1.A relative path refers to the location of a file or directory in relation to the current working directory (the directory from which the script or command is being executed). It specifies the path to the file or directory without starting from the root directory of the file system.\n",
    "\n",
    "2.An absolute path starts with the root directory of your operating system. In Windows, an absolute path typically starts with a drive letter followed by a colon (e.g., \"C:\"). In Unix-based systems (like Linux and macOS), an absolute path starts with a forward slash (\"/\").\n",
    "\n",
    "3.os.getcwd() is a function in the Python os module that stands for \"get current working directory.\" It returns the current working directory as a string. os.chdir() is another function in the os module that stands for \"change directory.\" It is used to change the current working directory to the specified path.\n",
    "\n",
    "4.In file systems, the \".\" (dot) represents the current directory, and \"..\" (double dot) represents the parent directory of the current directory.\n",
    "\n",
    "5.In the path \"C:\\bacon\\eggs\\spam.txt,\" \"C:\\bacon\\eggs\" is the directory name (the path to the containing folder), and \"spam.txt\" is the base name (the name of the file itself).\n",
    "\n",
    "6.The three \"mode\" arguments that can be passed to the open() function in Python are:\n",
    "\n",
    "\"r\": Read mode. Opens the file for reading.\n",
    "\"w\": Write mode. Opens the file for writing. If the file already exists, it is truncated (emptied) first. If it doesn't exist, a new file is created.\n",
    "\"a\": Append mode. Opens the file for writing, but if the file exists, it appends data to the end of the file rather than truncating it.\n",
    "\n",
    "7.If an existing file is opened in write mode (\"w\") using the open() function, its previous contents are completely overwritten with the new data. If the file does not exist, a new file is created.\n",
    "\n",
    "8.The read() method reads the entire content of a file and returns it as a single string. The readlines() method, on the other hand, reads the lines of a file into a list where each line is a separate element in the list. In summary, read() returns a single string, while readlines() returns a list of strings, one per line.\n",
    "\n",
    "9.A shelf value in Python resembles a dictionary data structure. It is provided by the shelve module and allows you to store and retrieve data like a dictionary. Shelf values are persistent and can be used to store key-value pairs on disk, making them suitable for storing small to medium-sized datasets.\n",
    "\n",
    "\n",
    "\n",
    "\n"
   ]
  },
  {
   "cell_type": "code",
   "execution_count": null,
   "id": "a5a06638",
   "metadata": {},
   "outputs": [],
   "source": []
  }
 ],
 "metadata": {
  "kernelspec": {
   "display_name": "Python 3 (ipykernel)",
   "language": "python",
   "name": "python3"
  },
  "language_info": {
   "codemirror_mode": {
    "name": "ipython",
    "version": 3
   },
   "file_extension": ".py",
   "mimetype": "text/x-python",
   "name": "python",
   "nbconvert_exporter": "python",
   "pygments_lexer": "ipython3",
   "version": "3.9.12"
  }
 },
 "nbformat": 4,
 "nbformat_minor": 5
}
