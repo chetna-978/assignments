{
 "cells": [
  {
   "cell_type": "markdown",
   "id": "9cf09ce6",
   "metadata": {},
   "source": [
    "Q1. Is an assignment operator like += only for show? Is it possible that it would lead to faster results\n",
    "at the runtime?\n",
    "\n",
    "Q2. What is the smallest number of statements you&#39;d have to write in most programming languages to\n",
    "replace the Python expression a, b = a + b, a?\n",
    "\n",
    "Q3. In Python, what is the most effective way to set a list of 100 integers to 0?\n",
    "\n",
    "Q4. What is the most effective way to initialise a list of 99 integers that repeats the sequence 1, 2, 3?\n",
    "S If necessary, show step-by-step instructions on how to accomplish this.\n",
    "\n",
    "Q5. If you&#39;re using IDLE to run a Python application, explain how to print a multidimensional list as\n",
    "efficiently?\n",
    "\n",
    "Q6. Is it possible to use list comprehension with a string? If so, how can you go about doing it?\n",
    "\n",
    "Q7. From the command line, how do you get support with a user-written Python programme? Is this\n",
    "possible from inside IDLE?\n",
    "\n",
    "Q8. Functions are said to be “first-class objects” in Python but not in most other languages, such as\n",
    "C++ or Java. What can you do in Python with a function (callable object) that you can&#39;t do in C or\n",
    "C++?\n",
    "\n",
    "Q9. How do you distinguish between a wrapper, a wrapped feature, and a decorator?\n",
    "\n",
    "Q10. If a function is a generator function, what does it return?\n",
    "\n",
    "Q11. What is the one improvement that must be made to a function in order for it to become a\n",
    "generator function in the Python language?\n",
    "\n",
    "Q12. Identify at least one benefit of generators."
   ]
  },
  {
   "cell_type": "markdown",
   "id": "88ec5d7e",
   "metadata": {},
   "source": [
    "Ans:1\n",
    "The += operator in Python is not just for show; it has practical implications for runtime performance. It is an in-place addition operator, and its use can lead to faster results compared to creating a new object.\n",
    "\n",
    "For mutable objects like lists, sets, and arrays, += modifies the existing object in place, avoiding the creation of a new object and saving memory. In contrast, using + to concatenate creates a new object, which may be less efficient for large data structures."
   ]
  },
  {
   "cell_type": "code",
   "execution_count": 3,
   "id": "df910161",
   "metadata": {},
   "outputs": [
    {
     "name": "stdout",
     "output_type": "stream",
     "text": [
      "a = 15\n",
      "b = 5\n"
     ]
    }
   ],
   "source": [
    "#Ans:2\n",
    "#The smallest number of statements to replace the expression would be two:\n",
    "# Initialize values for a and b\n",
    "a = 5\n",
    "b = 10\n",
    "\n",
    "# Perform the operation using two statements\n",
    "temp = a + b\n",
    "a, b = temp, a\n",
    "\n",
    "# Now, a and b have been updated\n",
    "print(\"a =\", a)\n",
    "print(\"b =\", b)\n"
   ]
  },
  {
   "cell_type": "code",
   "execution_count": 4,
   "id": "a5328f1a",
   "metadata": {},
   "outputs": [],
   "source": [
    "#Ans:3\n",
    "#Use list comprehension to create a list of 100 zeros:\n",
    "my_list = [0] * 100\n"
   ]
  },
  {
   "cell_type": "code",
   "execution_count": 5,
   "id": "f0c4bb28",
   "metadata": {},
   "outputs": [],
   "source": [
    "#Ans:4\n",
    "#Use a combination of list comprehension and the % (modulo) operator:\n",
    "my_list = [i % 3 + 1 for i in range(99)]\n"
   ]
  },
  {
   "cell_type": "code",
   "execution_count": 6,
   "id": "d940d1fb",
   "metadata": {},
   "outputs": [
    {
     "name": "stdout",
     "output_type": "stream",
     "text": [
      "[[1, 2, 3], [4, 5, 6], [7, 8, 9]]\n"
     ]
    }
   ],
   "source": [
    "#Ans:5\n",
    "#Use the pprint module (Pretty Printer) for a more readable output. For example:\n",
    "from pprint import pprint\n",
    "my_list = [[1, 2, 3], [4, 5, 6], [7, 8, 9]]\n",
    "pprint(my_list)\n"
   ]
  },
  {
   "cell_type": "code",
   "execution_count": 7,
   "id": "ffb49a3a",
   "metadata": {},
   "outputs": [],
   "source": [
    "#Ans:6\n",
    "#Yes, list comprehension can be used with a string to create a list of its characters:\n",
    "my_string = \"hello\"\n",
    "char_list = [char for char in my_string]\n"
   ]
  },
  {
   "cell_type": "markdown",
   "id": "f2c2c1a1",
   "metadata": {},
   "source": [
    "Ans:7\n",
    "From the command line, you can seek support on forums, Q&A sites, or communities related to Python. IDLE itself does not provide direct support features; however, you can still access external resources for help.\n"
   ]
  },
  {
   "cell_type": "markdown",
   "id": "d06c86ed",
   "metadata": {},
   "source": [
    "Ans:8\n",
    "In Python, functions are first-class objects, meaning they can be:\n",
    "\n",
    "Assigned to variables.\n",
    "Passed as arguments to other functions.\n",
    "Returned as values from other functions.\n",
    "Stored in data structures like lists or dictionaries.\n",
    "This flexibility allows for advanced programming paradigms, such as functional programming."
   ]
  },
  {
   "cell_type": "markdown",
   "id": "e2077016",
   "metadata": {},
   "source": [
    "Ans:9\n",
    "Wrapper: A function or class that provides additional functionality around an existing function or class. It typically takes the original function or class as an argument and extends or modifies its behavior.\n",
    "\n",
    "Wrapped feature: The original function or class that is being extended or modified by a wrapper.\n",
    "\n",
    "Decorator: A special type of wrapper that uses the @decorator syntax. It is a concise way to apply a wrapper to a function or method."
   ]
  },
  {
   "cell_type": "markdown",
   "id": "8155a288",
   "metadata": {},
   "source": [
    "Ans:10\n",
    "A generator function in Python returns a generator object, which is an iterator. It does not execute immediately; instead, it generates values on-the-fly using the yield keyword."
   ]
  },
  {
   "cell_type": "markdown",
   "id": "afe5c24f",
   "metadata": {},
   "source": [
    "Ans:11\n",
    "To turn a regular function into a generator function, replace return statements with yield statements. This allows the function to yield values one at a time and maintain its state between calls."
   ]
  },
  {
   "cell_type": "markdown",
   "id": "9c790cc3",
   "metadata": {},
   "source": [
    "Ans:12\n",
    "Memory efficiency: Generators produce values on demand and do not store the entire sequence in memory. This is especially beneficial for handling large datasets, as only one value is generated at a time, reducing memory consumption."
   ]
  },
  {
   "cell_type": "code",
   "execution_count": null,
   "id": "3a02e1fd",
   "metadata": {},
   "outputs": [],
   "source": []
  }
 ],
 "metadata": {
  "kernelspec": {
   "display_name": "Python 3 (ipykernel)",
   "language": "python",
   "name": "python3"
  },
  "language_info": {
   "codemirror_mode": {
    "name": "ipython",
    "version": 3
   },
   "file_extension": ".py",
   "mimetype": "text/x-python",
   "name": "python",
   "nbconvert_exporter": "python",
   "pygments_lexer": "ipython3",
   "version": "3.9.12"
  }
 },
 "nbformat": 4,
 "nbformat_minor": 5
}
