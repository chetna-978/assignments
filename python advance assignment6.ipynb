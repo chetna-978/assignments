{
 "cells": [
  {
   "cell_type": "markdown",
   "id": "7e522a61",
   "metadata": {},
   "source": [
    "Q1. Describe three applications for exception processing.\n",
    "\n",
    "Q2. What happens if you don&#39;t do something extra to treat an exception?\n",
    "\n",
    "Q3. What are your options for recovering from an exception in your script?\n",
    "\n",
    "Q4. Describe two methods for triggering exceptions in your script.\n",
    "\n",
    "Q5. Identify two methods for specifying actions to be executed at termination time, regardless of\n",
    "whether or not an exception exists."
   ]
  },
  {
   "cell_type": "markdown",
   "id": "582f4e26",
   "metadata": {},
   "source": [
    "Ans 1: Three applications for exception processing are:\n",
    "\n",
    "Error Handling: Exception processing allows developers to gracefully handle errors and unexpected situations that may occur during program execution. By catching and handling exceptions, applications can provide meaningful error messages, log diagnostic information, and prevent crashes or unexpected terminations.\n",
    "\n",
    "Resource Cleanup: Exception processing is often used to ensure that resources, such as file handles, network connections, or database connections, are properly released and cleaned up even if an error occurs. Using exception handling constructs like try...finally ensures that cleanup code is executed regardless of whether an exception is raised.\n",
    "\n",
    "Program Flow Control: Exceptions can be used to control the flow of a program in response to specific conditions or events. By raising exceptions in certain situations, developers can redirect the program's execution, skip certain operations, or handle special cases, leading to more robust and flexible code.\n",
    "\n",
    "Ans 2: If you don't do something extra to treat an exception, the exception will propagate up the call stack until it either reaches the top-level of the program, causing the program to terminate with an unhandled exception, or until it is caught and handled by an appropriate exception handler. Without proper exception handling, the program may crash, leave resources in an inconsistent state, or produce unexpected results.\n",
    "\n",
    "Ans 3: Options for recovering from an exception in your script include:\n",
    "\n",
    "Handling Exceptions: You can use a try...except block to catch and handle specific exceptions, allowing the script to recover from errors gracefully, continue executing, or take alternative actions.\n",
    "\n",
    "Exception Logging: Instead of handling the exception, you can log the exception details, including the traceback, to diagnose the issue and gather information for debugging or analysis.\n",
    "\n",
    "Retrying Operations: In some cases, you can implement retry mechanisms to attempt the failed operation again, possibly with backoff strategies or exponential delays, to recover from transient errors or temporary failures.\n",
    "\n",
    "Fallback Strategies: You can define fallback or default behaviors to use in case of exceptions, providing alternative paths or methods to handle specific situations or errors."
   ]
  },
  {
   "cell_type": "markdown",
   "id": "0c2cbf93",
   "metadata": {},
   "source": [
    "Ans 4: Two methods for triggering exceptions in your script are:\n",
    "\n",
    "Raise Statement: You can explicitly raise exceptions using the raise statement followed by an exception instance or class. This allows you to signal errors, exceptional conditions, or specific events within your script.\n",
    "raise ValueError(\"Invalid value provided\")\n",
    "\n",
    "Assertion Statements: You can use assertion statements, like assert, to trigger exceptions based on certain conditions or predicates. If the assertion condition is False, an AssertionError is raised.\n",
    "\n",
    "assert x > 0, \"x should be greater than 0\""
   ]
  },
  {
   "cell_type": "markdown",
   "id": "0e3557e3",
   "metadata": {},
   "source": [
    "Ans 5: Two methods for specifying actions to be executed at termination time, regardless of whether or not an exception exists, are:\n",
    "\n",
    "try...finally Blocks: You can use a try...finally block to ensure that specific cleanup or finalization code is executed regardless of whether an exception is raised or not. The code in the finally block is guaranteed to run before the block exits.\n",
    "\n",
    "try:\n",
    "    # Code that may raise exceptions\n",
    "finally:\n",
    "    # Cleanup or finalization code\n",
    "    \n",
    "atexit Module: Python's atexit module provides a way to register functions that are called when a program is about to exit. Functions registered with atexit.register() are executed in the reverse order of their registration when the program terminates, allowing you to perform cleanup or termination tasks."
   ]
  },
  {
   "cell_type": "code",
   "execution_count": 6,
   "id": "fd93c411",
   "metadata": {},
   "outputs": [],
   "source": [
    "import atexit\n",
    "def cleanup():\n",
    "    atexit.register(cleanup)"
   ]
  },
  {
   "cell_type": "code",
   "execution_count": null,
   "id": "62c57707",
   "metadata": {},
   "outputs": [],
   "source": []
  }
 ],
 "metadata": {
  "kernelspec": {
   "display_name": "Python 3 (ipykernel)",
   "language": "python",
   "name": "python3"
  },
  "language_info": {
   "codemirror_mode": {
    "name": "ipython",
    "version": 3
   },
   "file_extension": ".py",
   "mimetype": "text/x-python",
   "name": "python",
   "nbconvert_exporter": "python",
   "pygments_lexer": "ipython3",
   "version": "3.9.12"
  }
 },
 "nbformat": 4,
 "nbformat_minor": 5
}
