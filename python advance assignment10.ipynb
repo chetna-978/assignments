{
 "cells": [
  {
   "cell_type": "markdown",
   "id": "43647e2a",
   "metadata": {},
   "source": [
    "Q1. What is the difference between __getattr__ and __getattribute__?\n",
    "\n",
    "Q2. What is the difference between properties and descriptors?\n",
    "\n",
    "Q3. What are the key differences in functionality between __getattr__ and __getattribute__, as well as\n",
    "properties and descriptors?"
   ]
  },
  {
   "cell_type": "markdown",
   "id": "d4e0ca5c",
   "metadata": {},
   "source": [
    "Ans 1: The difference between getattr and getattribute in Python lies in their behavior and usage:\n",
    "\n",
    "getattr function: It is a built-in function that retrieves the value of a named attribute of an object. If the attribute does not exist, getattr returns a default value or raises an AttributeError if no default is provided.\n",
    "value = getattr(obj, 'attribute_name', default_value)\n",
    "\n",
    "__getattribute__ method: It is a special method defined in a class to customize attribute access. Unlike getattr, __getattribute__ is called for every attribute access on the object, including built-in attributes and methods. It is often used for implementing attribute access control, validation, or logging.\n",
    "\n",
    "def __getattribute__(self, name):\n",
    "    # Custom attribute access logic"
   ]
  },
  {
   "cell_type": "markdown",
   "id": "d25f212d",
   "metadata": {},
   "source": [
    "Ans 2: The difference between properties and descriptors in Python relates to their purpose, behavior, and implementation:\n",
    "\n",
    "Properties: Properties are a built-in mechanism in Python for controlling attribute access and modification. They allow you to define methods (getter, setter, and deleter) that are automatically called when accessing, setting, or deleting an attribute. Properties are defined using the @property decorator and can be used to encapsulate and validate attribute values.\n",
    "\n",
    "Descriptors: Descriptors are a more general and lower-level mechanism in Python for implementing attribute access control. A descriptor is an object that defines one or more of the following methods: __get__, __set__, and __delete__. Descriptors can be used to customize attribute access, validation, delegation, and computed attributes. They provide a powerful and flexible mechanism for implementing advanced attribute behavior and are the underlying mechanism used by properties.\n",
    "\n",
    "Ans 3: The key differences in functionality between getattr and getattribute, as well as properties and descriptors, are:\n",
    "\n",
    "getattr vs. __getattribute__:\n",
    "\n",
    "getattr is a function for retrieving attribute values and provides a fallback mechanism using a default value or raising an exception.\n",
    "__getattribute__ is a method that allows for custom attribute access control and is called for every attribute access on the object, including built-in attributes and methods.\n",
    "Properties vs. Descriptors:\n",
    "\n",
    "Properties are a high-level, user-friendly mechanism built on top of descriptors for defining attribute access behavior using getter, setter, and deleter methods. They encapsulate common attribute access patterns and provide a concise syntax using the @property decorator.\n",
    "Descriptors are a low-level, general-purpose mechanism for implementing custom attribute access behavior using __get__, __set__, and __delete__ methods. They offer greater flexibility and control over attribute behavior but require more boilerplate code and a deeper understanding of Python's attribute access protocol.\n",
    "In summary, while getattr and __getattribute__ provide mechanisms for controlling attribute access at runtime, properties and descriptors offer different levels of abstraction and flexibility for implementing advanced attribute behavior and encapsulation in Python."
   ]
  },
  {
   "cell_type": "code",
   "execution_count": null,
   "id": "0c547e47",
   "metadata": {},
   "outputs": [],
   "source": []
  }
 ],
 "metadata": {
  "kernelspec": {
   "display_name": "Python 3 (ipykernel)",
   "language": "python",
   "name": "python3"
  },
  "language_info": {
   "codemirror_mode": {
    "name": "ipython",
    "version": 3
   },
   "file_extension": ".py",
   "mimetype": "text/x-python",
   "name": "python",
   "nbconvert_exporter": "python",
   "pygments_lexer": "ipython3",
   "version": "3.9.12"
  }
 },
 "nbformat": 4,
 "nbformat_minor": 5
}
