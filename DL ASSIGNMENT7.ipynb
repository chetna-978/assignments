{
 "cells": [
  {
   "cell_type": "markdown",
   "id": "493defdd",
   "metadata": {},
   "source": [
    "1. Can you think of a few applications for a sequence-to-sequence RNN? What about a\n",
    "sequence-to-vector RNN, and a vector-to-sequence RNN?\n",
    "2. How many dimensions must the inputs of an RNN layer have? What does each dimension\n",
    "represent? What about its outputs?\n",
    "3. If you want to build a deep sequence-to-sequence RNN, which RNN layers should\n",
    "have return_sequences=True? What about a sequence-to-vector RNN?\n",
    "4. Suppose you have a daily univariate time series, and you want to forecast the next seven\n",
    "days. Which RNN architecture should you use?\n",
    "5. What are the main difficulties when training RNNs? How can you handle them?\n",
    "6. Can you sketch the LSTM cell’s architecture?\n",
    "7. Why would you want to use 1D convolutional layers in an RNN?\n",
    "8. Which neural network architecture could you use to classify videos?\n",
    "9. Train a classification model for the SketchRNN dataset, available in TensorFlow Datasets."
   ]
  },
  {
   "cell_type": "markdown",
   "id": "3276c768",
   "metadata": {},
   "source": [
    "Ans 1:\n",
    "\n",
    "Applications for:\n",
    "Sequence-to-sequence RNN: Machine translation, chatbots, speech recognition, and video captioning.\n",
    "Sequence-to-vector RNN: Sentiment analysis of a paragraph, summarization of long texts, and encoding sentences into fixed-size vectors for other tasks.\n",
    "Vector-to-sequence RNN: Image captioning where an image vector is converted to a sequence of words describing the image.\n",
    "\n",
    "Ans 2:\n",
    "\n",
    "The inputs of an RNN layer typically have 3 dimensions:\n",
    "Batch Size: Number of sequences being processed simultaneously.\n",
    "Time Steps: Length of each sequence.\n",
    "Features: Number of features at each time step.\n",
    "The outputs of an RNN layer have the same dimensions as the inputs.\n",
    "\n",
    "Ans 3:\n",
    "\n",
    "For a deep sequence-to-sequence RNN, all RNN layers (except the last one) should have return_sequences=True.\n",
    "For a sequence-to-vector RNN, only the last RNN layer should have return_sequences=False (or by default).\n",
    "\n",
    "Ans 4:\n",
    "\n",
    "For forecasting the next seven days of a daily univariate time series, you should use a Many-to-Many RNN architecture, specifically Sequence-to-Sequence with return_sequences=True.\n",
    "\n",
    "Ans 5:\n",
    "\n",
    "Main difficulties:\n",
    "Vanishing Gradients: RNNs can struggle with long sequences due to the vanishing gradient problem.\n",
    "Exploding Gradients: Opposite of vanishing gradients, which can make training unstable.\n",
    "Long-term Dependencies: RNNs find it challenging to capture long-term dependencies in sequences.\n",
    "Solutions:\n",
    "LSTMs or GRUs: Designed to mitigate the vanishing gradient problem.\n",
    "Gradient Clipping: Helps mitigate exploding gradients.\n",
    "Attention Mechanisms: Allow the model to focus on relevant parts of the input.\n",
    "\n",
    "Ans 6:\n",
    "\n",
    "A typical LSTM cell has:\n",
    "Input Gate: Controls the flow of information into the cell.\n",
    "Forget Gate: Determines what information to discard or keep.\n",
    "Cell State: Contains the memory of the cell.\n",
    "Output Gate: Determines the next hidden state and output.\n",
    "\n",
    "Ans 7:\n",
    "\n",
    "1D convolutional layers in an RNN can capture local patterns in the sequence and reduce the sequence length, making it easier for the subsequent RNN layers to capture longer-term dependencies.\n",
    "\n",
    "Ans 8:\n",
    "\n",
    "To classify videos, one could use a 3D Convolutional Neural Network (3D CNN). This architecture can capture spatial features (like a 2D CNN) and temporal dynamics (like an RNN).\n",
    "\n",
    "Ans 9:\n",
    "\n",
    "Training a classification model for the SketchRNN dataset involves:\n",
    "Loading the dataset from TensorFlow Datasets.\n",
    "Preprocessing the data (e.g., padding sequences, normalizing).\n",
    "Building an appropriate RNN or CNN architecture for sequence classification.\n",
    "Compiling and training the model on the dataset.\n",
    "Evaluating the model's performance on a validation or test set."
   ]
  },
  {
   "cell_type": "code",
   "execution_count": null,
   "id": "39cf4170",
   "metadata": {},
   "outputs": [],
   "source": []
  }
 ],
 "metadata": {
  "kernelspec": {
   "display_name": "Python 3 (ipykernel)",
   "language": "python",
   "name": "python3"
  },
  "language_info": {
   "codemirror_mode": {
    "name": "ipython",
    "version": 3
   },
   "file_extension": ".py",
   "mimetype": "text/x-python",
   "name": "python",
   "nbconvert_exporter": "python",
   "pygments_lexer": "ipython3",
   "version": "3.9.12"
  }
 },
 "nbformat": 4,
 "nbformat_minor": 5
}
