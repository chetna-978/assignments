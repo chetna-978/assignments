{
 "cells": [
  {
   "cell_type": "markdown",
   "id": "68a4e00c",
   "metadata": {},
   "source": [
    "Q1. Can you create a programme or function that employs both positive and negative indexing? Is\n",
    "there any repercussion if you do so?\n",
    "\n",
    "Q2. What is the most effective way of starting with 1,000 elements in a Python list? Assume that all\n",
    "elements should be set to the same value.\n",
    "\n",
    "Q3. How do you slice a list to get any other part while missing the rest? (For example, suppose you\n",
    "want to make a new list with the elements first, third, fifth, seventh, and so on.)\n",
    "\n",
    "Q4. Explain the distinctions between indexing and slicing.\n",
    "\n",
    "Q5. What happens if one of the slicing expression&#39;s indexes is out of range?\n",
    "\n",
    "Q6. If you pass a list to a function, and if you want the function to be able to change the values of the\n",
    "list—so that the list is different after the function returns—what action should you avoid?\n",
    "\n",
    "Q7. What is the concept of an unbalanced matrix?\n",
    "\n",
    "Q8. Why is it necessary to use either list comprehension or a loop to create arbitrarily large matrices?"
   ]
  },
  {
   "cell_type": "code",
   "execution_count": 1,
   "id": "6a553b23",
   "metadata": {},
   "outputs": [],
   "source": [
    "def index_example(my_list):\n",
    "    # Access elements using positive and negative indexing\n",
    "    first_element = my_list[0]\n",
    "    last_element = my_list[-1]\n",
    "    \n",
    "    # Print the results\n",
    "    print(f\"First element: {first_element}\")\n",
    "    print(f\"Last element: {last_element}\")"
   ]
  },
  {
   "cell_type": "code",
   "execution_count": 2,
   "id": "353b0036",
   "metadata": {},
   "outputs": [
    {
     "name": "stdout",
     "output_type": "stream",
     "text": [
      "First element: 10\n",
      "Last element: 50\n"
     ]
    }
   ],
   "source": [
    "# Example usage with a list\n",
    "my_list = [10, 20, 30, 40, 50]\n",
    "index_example(my_list)\n"
   ]
  },
  {
   "cell_type": "markdown",
   "id": "33571222",
   "metadata": {},
   "source": [
    "Repercussion:\n",
    "\n",
    "While using both positive and negative indexing is valid, it's important to handle edge cases carefully to avoid IndexError. Negative indexing allows access from the end of the list, but specifying an index beyond the list length (negatively) can result in an IndexError."
   ]
  },
  {
   "cell_type": "markdown",
   "id": "34017e22",
   "metadata": {},
   "source": [
    "Ans:2\n",
    "The most effective way to create a list with 1,000 elements, all set to the same value, is to use a list comprehension:"
   ]
  },
  {
   "cell_type": "code",
   "execution_count": 3,
   "id": "1a402f20",
   "metadata": {},
   "outputs": [],
   "source": [
    "value = 42  # Set to your desired value\n",
    "my_list = [value] * 1000\n"
   ]
  },
  {
   "cell_type": "markdown",
   "id": "05f804e0",
   "metadata": {},
   "source": [
    "This creates a list with 1,000 elements, all initialized to the specified value."
   ]
  },
  {
   "cell_type": "markdown",
   "id": "0d81d842",
   "metadata": {},
   "source": [
    "Ans:3\n",
    "To create a new list with elements at odd indexes (1-based indexing), you can use slicing with a step:"
   ]
  },
  {
   "cell_type": "code",
   "execution_count": 4,
   "id": "d1d4bbc3",
   "metadata": {},
   "outputs": [],
   "source": [
    "original_list = [1, 2, 3, 4, 5, 6, 7, 8, 9, 10]\n",
    "new_list = original_list[0::2]  # Get elements at odd indexes\n"
   ]
  },
  {
   "cell_type": "markdown",
   "id": "d821dfdd",
   "metadata": {},
   "source": [
    "Ans:3\n",
    "To create a new list with elements at odd indexes (1-based indexing), you can use slicing with a step:  "
   ]
  },
  {
   "cell_type": "code",
   "execution_count": 5,
   "id": "3e98ac1c",
   "metadata": {},
   "outputs": [],
   "source": [
    "original_list = [1, 2, 3, 4, 5, 6, 7, 8, 9, 10]\n",
    "new_list = original_list[0::2]  # Get elements at odd indexes\n"
   ]
  },
  {
   "cell_type": "markdown",
   "id": "64373334",
   "metadata": {},
   "source": [
    "Ans:4\n",
    "Indexing: Refers to accessing a single element in a list using its position (index). It returns the value of the specified element.\n",
    "\n",
    "Slicing: Refers to extracting a portion (sublist) from a list by specifying a range of indices. It returns a new list containing the selected elements."
   ]
  },
  {
   "cell_type": "markdown",
   "id": "f01fcbe4",
   "metadata": {},
   "source": [
    "Ans:5\n",
    "If one of the slicing expression's indexes is out of range, Python does not raise an IndexError. Instead, it truncates the slice to the valid range."
   ]
  },
  {
   "cell_type": "code",
   "execution_count": 6,
   "id": "662b9ebc",
   "metadata": {},
   "outputs": [],
   "source": [
    "my_list = [1, 2, 3, 4, 5]\n",
    "result = my_list[2:10]  # No IndexError, result is [3, 4, 5]\n"
   ]
  },
  {
   "cell_type": "markdown",
   "id": "ceff2115",
   "metadata": {},
   "source": [
    "Ans:6\n",
    "To prevent the function from changing the original list, avoid using mutable types like lists as default parameter values. Instead, create a copy within the function:"
   ]
  },
  {
   "cell_type": "code",
   "execution_count": 7,
   "id": "3fac9fbf",
   "metadata": {},
   "outputs": [
    {
     "name": "stdout",
     "output_type": "stream",
     "text": [
      "[1, 2, 3]\n"
     ]
    }
   ],
   "source": [
    "def modify_list(my_list=[]):\n",
    "    modified_list = my_list.copy()\n",
    "    # Modify the new list\n",
    "    modified_list.append(42)\n",
    "    return modified_list\n",
    "\n",
    "original_list = [1, 2, 3]\n",
    "result_list = modify_list(original_list)\n",
    "print(original_list)  # Original list remains unchanged\n"
   ]
  },
  {
   "cell_type": "markdown",
   "id": "8ea714d9",
   "metadata": {},
   "source": [
    "Ans:7\n",
    "An unbalanced matrix typically refers to a matrix that does not have an equal number of rows and columns. It can be a rectangular matrix where the number of rows is not equal to the number of columns."
   ]
  },
  {
   "cell_type": "markdown",
   "id": "3efeab51",
   "metadata": {},
   "source": [
    "Ans:8\n",
    "Creating arbitrarily large matrices involves generating a sequence of elements, and list comprehension or loops are used for efficient and concise element generation. List comprehension is especially useful for creating matrices with complex patterns or conditions. Additionally, using loops allows you to dynamically generate elements based on specified rules or calculations. These methods provide flexibility and scalability for handling large matrices."
   ]
  },
  {
   "cell_type": "code",
   "execution_count": null,
   "id": "b0427d63",
   "metadata": {},
   "outputs": [],
   "source": []
  }
 ],
 "metadata": {
  "kernelspec": {
   "display_name": "Python 3 (ipykernel)",
   "language": "python",
   "name": "python3"
  },
  "language_info": {
   "codemirror_mode": {
    "name": "ipython",
    "version": 3
   },
   "file_extension": ".py",
   "mimetype": "text/x-python",
   "name": "python",
   "nbconvert_exporter": "python",
   "pygments_lexer": "ipython3",
   "version": "3.9.12"
  }
 },
 "nbformat": 4,
 "nbformat_minor": 5
}
