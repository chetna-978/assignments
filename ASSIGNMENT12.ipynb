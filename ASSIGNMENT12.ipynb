{
 "cells": [
  {
   "cell_type": "markdown",
   "id": "d605a210",
   "metadata": {},
   "source": [
    "1. In what modes should the PdfFileReader() and PdfFileWriter() File objects be opened?\n",
    "   - PdfFileReader(): 'rb' (binary read)\n",
    "   - PdfFileWriter(): 'wb' (binary write)\n",
    "\n",
    "2. From a PdfFileReader object, how do you get a Page object for page 5?\n",
    "   - `page = pdf_reader.getPage(4)` \n",
    "     (Note: Page numbering is zero-based, so page 5 corresponds to index 4)\n",
    "\n",
    "3. What PdfFileReader variable stores the number of pages in the PDF document?\n",
    "   - `numPages`\n",
    "\n",
    "4. If a PdfFileReader object’s PDF is encrypted with the password swordfish, what must you do before obtaining Page objects?\n",
    "   - Use the `decrypt(\"swordfish\")` method.\n",
    "\n",
    "5. What methods do you use to rotate a page in a PDF?\n",
    "   - `rotateClockwise()` and `rotateCounterClockwise()` methods on a Page object.\n",
    "\n",
    "6. What distinguishes a Run object from a Paragraph object in the context of Microsoft Word documents?\n",
    "   - Run object: Represents a span of text with consistent formatting.\n",
    "   - Paragraph object: Represents a block of text that can contain multiple Run objects.\n",
    "\n",
    "7. How do you fetch a list of Paragraph objects from a Document object named `doc`?\n",
    "   - `paragraphs = doc.paragraphs`\n",
    "\n",
    "8. Which object type in Word documents has attributes for bold, underline, italic, strike, and outline?\n",
    "   - Run object\n",
    "\n",
    "9. Differentiate between False, True, and None for the bold attribute in Word documents.\n",
    "   - False: Text is not bold.\n",
    "   - True: Text is bold.\n",
    "   - None: Text inherits bold status from parent Run or Paragraph.\n",
    "\n",
    "10. How do you initiate a Document object for a new Word document?\n",
    "    - `docx.Document()`\n",
    "\n",
    "11. How would you append a paragraph with the content 'Hello, there!' to a Document object `doc`?\n",
    "    - `doc.add_paragraph('Hello, there!')`\n",
    "\n",
    "12. What numeric values denote the available levels of headings in Word documents?\n",
    "    - Levels typically range from 1 to 9, where 1 is the highest and 9 is the lowest.\n"
   ]
  },
  {
   "cell_type": "code",
   "execution_count": null,
   "id": "880cc71a",
   "metadata": {},
   "outputs": [],
   "source": []
  }
 ],
 "metadata": {
  "kernelspec": {
   "display_name": "Python 3 (ipykernel)",
   "language": "python",
   "name": "python3"
  },
  "language_info": {
   "codemirror_mode": {
    "name": "ipython",
    "version": 3
   },
   "file_extension": ".py",
   "mimetype": "text/x-python",
   "name": "python",
   "nbconvert_exporter": "python",
   "pygments_lexer": "ipython3",
   "version": "3.9.12"
  }
 },
 "nbformat": 4,
 "nbformat_minor": 5
}
