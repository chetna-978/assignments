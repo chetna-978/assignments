{
 "cells": [
  {
   "cell_type": "markdown",
   "id": "46b47e72",
   "metadata": {},
   "source": [
    "1. What is the concept of an abstract superclass?\n",
    "\n",
    "2. What happens when a class statement&#39;s top level contains a basic assignment statement?\n",
    "\n",
    "3. Why does a class need to manually call a superclass&#39;s __init__ method?\n",
    "\n",
    "4. How can you augment, instead of completely replacing, an inherited method?\n",
    "\n",
    "5. How is the local scope of a class different from that of a function?"
   ]
  },
  {
   "cell_type": "markdown",
   "id": "b800dfb2",
   "metadata": {},
   "source": [
    "Ans 1: An abstract superclass is a class that is designed to be inherited by other classes but not instantiated directly. It contains methods that are declared but not implemented, known as abstract methods. Subclasses inheriting from an abstract superclass must implement these abstract methods, providing concrete implementations. The purpose of an abstract superclass is to define a common interface or behavior that its subclasses must adhere to."
   ]
  },
  {
   "cell_type": "markdown",
   "id": "a9eee0cb",
   "metadata": {},
   "source": [
    "Ans 2: When a class statement's top level contains a basic assignment statement, it defines a class attribute. This attribute is shared by all instances of the class and can be accessed using the class name or any instance of the class. If a class attribute is modified using an instance, it creates a new instance attribute that shadows the class attribute for that specific instance."
   ]
  },
  {
   "cell_type": "code",
   "execution_count": 1,
   "id": "eac49b69",
   "metadata": {},
   "outputs": [
    {
     "name": "stdout",
     "output_type": "stream",
     "text": [
      "I am a class attribute\n",
      "Modified attribute\n",
      "I am a class attribute\n"
     ]
    }
   ],
   "source": [
    "class MyClass:\n",
    "    class_attribute = \"I am a class attribute\"\n",
    "\n",
    "obj = MyClass()\n",
    "print(obj.class_attribute)  # Outputs: \"I am a class attribute\"\n",
    "\n",
    "obj.class_attribute = \"Modified attribute\"\n",
    "print(obj.class_attribute)  # Outputs: \"Modified attribute\"\n",
    "print(MyClass.class_attribute)  # Outputs: \"I am a class attribute\"\n"
   ]
  },
  {
   "cell_type": "markdown",
   "id": "585f63a6",
   "metadata": {},
   "source": [
    "Ans 3: A class needs to manually call a superclass's __init__ method to ensure that the superclass's initialization logic is executed. If a subclass overrides the __init__ method without calling the superclass's __init__, the superclass's initialization logic won't be executed, potentially leading to incorrect or unexpected behavior. By calling the superclass's __init__ method using super().__init__(), the subclass ensures that the superclass's initialization is properly executed."
   ]
  },
  {
   "cell_type": "markdown",
   "id": "697aa56f",
   "metadata": {},
   "source": [
    "Ans 4: To augment (or extend) an inherited method without completely replacing it, a subclass can call the superclass's method from within the overriding method using the super() function. This allows the subclass to add additional behavior before or after the superclass's method is called, effectively augmenting the inherited method."
   ]
  },
  {
   "cell_type": "code",
   "execution_count": 2,
   "id": "95ca7cd7",
   "metadata": {},
   "outputs": [
    {
     "name": "stdout",
     "output_type": "stream",
     "text": [
      "Before calling parent method\n",
      "ParentClass method\n",
      "After calling parent method\n"
     ]
    }
   ],
   "source": [
    "class ParentClass:\n",
    "    def method(self):\n",
    "        print(\"ParentClass method\")\n",
    "\n",
    "class ChildClass(ParentClass):\n",
    "    def method(self):\n",
    "        print(\"Before calling parent method\")\n",
    "        super().method()  # Calling parent method\n",
    "        print(\"After calling parent method\")\n",
    "\n",
    "obj = ChildClass()\n",
    "obj.method()\n"
   ]
  },
  {
   "cell_type": "markdown",
   "id": "8108c988",
   "metadata": {},
   "source": [
    "Ans 5: The local scope of a class and the local scope of a function are different in several ways:\n",
    "\n",
    "Access to Attributes: Within a class, you can access class attributes and instance attributes using self. In contrast, within a function, you can access only local variables, function parameters, and global variables (if explicitly declared using the global keyword).\n",
    "Instance Access: Inside a class method, you have access to the instance (self), allowing you to modify instance attributes. Functions don't have this concept of instance access unless they are methods of a class.\n",
    "Encapsulation: Classes encapsulate data and behavior, allowing for better organization and abstraction. Functions, while also providing abstraction, don't have the same level of encapsulation and organization as classes.\n",
    "Inheritance and Polymorphism: Classes support inheritance, allowing for code reuse and polymorphism, where different classes can be treated as instances of the same class. Functions don't inherently support these OOP concepts."
   ]
  }
 ],
 "metadata": {
  "kernelspec": {
   "display_name": "Python 3 (ipykernel)",
   "language": "python",
   "name": "python3"
  },
  "language_info": {
   "codemirror_mode": {
    "name": "ipython",
    "version": 3
   },
   "file_extension": ".py",
   "mimetype": "text/x-python",
   "name": "python",
   "nbconvert_exporter": "python",
   "pygments_lexer": "ipython3",
   "version": "3.9.12"
  }
 },
 "nbformat": 4,
 "nbformat_minor": 5
}
