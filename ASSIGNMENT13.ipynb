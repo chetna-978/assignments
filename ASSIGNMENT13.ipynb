{
 "cells": [
  {
   "cell_type": "markdown",
   "id": "6767e837",
   "metadata": {},
   "source": [
    "1. What advantages do Excel spreadsheets have over CSV spreadsheets?\n",
    "   - Formatting capabilities (e.g., fonts, colors, borders).\n",
    "   - Support for formulas and functions.\n",
    "   - Ability to create charts and graphs.\n",
    "   - Data validation features.\n",
    "   - Support for multiple sheets in a single workbook.\n",
    "\n",
    "2. What do you pass to csv.reader() and csv.writer() to create reader and writer objects?\n",
    "   - A file object (opened in the appropriate mode).\n",
    "\n",
    "3. What modes do File objects for reader and writer objects need to be opened in?\n",
    "   - csv.reader(): 'rt' or 'rb' (text or binary mode)\n",
    "   - csv.writer(): 'wt' or 'wb' (text or binary mode)\n",
    "\n",
    "4. What method takes a list argument and writes it to a CSV file?\n",
    "   - The `writerow()` method of a CSV writer object.\n",
    "\n",
    "5. What do the keyword arguments delimiter and line terminator do?\n",
    "   - `delimiter`: Specifies the character used to separate fields (default is comma).\n",
    "   - `line_terminator`: Specifies the character(s) used to end lines (default is newline).\n",
    "\n",
    "6. What function takes a string of JSON data and returns a Python data structure?\n",
    "   - `json.loads()`\n",
    "\n",
    "7. What function takes a Python data structure and returns a string of JSON data?\n",
    "   - `json.dumps()`\n"
   ]
  },
  {
   "cell_type": "code",
   "execution_count": null,
   "id": "8c971f77",
   "metadata": {},
   "outputs": [],
   "source": []
  }
 ],
 "metadata": {
  "kernelspec": {
   "display_name": "Python 3 (ipykernel)",
   "language": "python",
   "name": "python3"
  },
  "language_info": {
   "codemirror_mode": {
    "name": "ipython",
    "version": 3
   },
   "file_extension": ".py",
   "mimetype": "text/x-python",
   "name": "python",
   "nbconvert_exporter": "python",
   "pygments_lexer": "ipython3",
   "version": "3.9.12"
  }
 },
 "nbformat": 4,
 "nbformat_minor": 5
}
