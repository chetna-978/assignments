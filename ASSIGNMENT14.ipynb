{
 "cells": [
  {
   "cell_type": "markdown",
   "id": "c9d468a3",
   "metadata": {},
   "source": [
    "1. What does RGBA stand for?\n",
    "   - RGBA stands for Red, Green, Blue, and Alpha. It is a color model used in computer graphics to represent colors.\n",
    "\n",
    "2. From the Pillow module, how do you get the RGBA value of any images?\n",
    "   - You can use the `getpixel()` method on an Image object and pass the coordinates (x, y) to retrieve the RGBA value at that location.\n",
    "\n",
    "3. What is a box tuple, and how does it work?\n",
    "   - A box tuple in the context of Pillow represents a rectangular region in an image. It is a tuple containing four integers: (left, upper, right, lower). The box tuple specifies the region between the coordinates (left, upper) and (right, lower), where (0, 0) represents the top-left corner of the image.\n",
    "\n",
    "4. Use your image and load in notebook then, How can you find out the width and height of an Image object?\n",
    "   - After loading an image using Pillow in a Jupyter notebook, you can use the `.size` attribute of the Image object. For example, if the Image object is named `img`, you would use `img.size` to get a tuple containing the width and height.\n",
    "\n",
    "5. What method would you call to get Image object for a 100×100 image, excluding the lower-left quarter of it?\n",
    "   - To exclude the lower-left quarter of a 100x100 image, you can use the `crop()` method. You would create a box tuple for the region you want to keep (e.g., `(50, 0, 100, 50)`) and then call `img.crop(box)` where `img` is your Image object.\n",
    "\n",
    "6. After making changes to an Image object, how could you save it as an image file?\n",
    "   - You can use the `save()` method on the Image object and specify the desired file format and filename as arguments. For example, `img.save('output.png')` would save the Image object as a PNG file named 'output.png'.\n",
    "\n",
    "7. What module contains Pillow’s shape-drawing code?\n",
    "   - The `ImageDraw` module in Pillow contains the shape-drawing code.\n",
    "\n",
    "8. Image objects do not have drawing methods. What kind of object does? How do you get this kind of object?\n",
    "   - The `ImageDraw.Draw` object has drawing methods. To get this object, you typically create it using `ImageDraw.Draw(img)` where `img` is your Image object.\n"
   ]
  },
  {
   "cell_type": "code",
   "execution_count": null,
   "id": "02152cd1",
   "metadata": {},
   "outputs": [],
   "source": []
  }
 ],
 "metadata": {
  "kernelspec": {
   "display_name": "Python 3 (ipykernel)",
   "language": "python",
   "name": "python3"
  },
  "language_info": {
   "codemirror_mode": {
    "name": "ipython",
    "version": 3
   },
   "file_extension": ".py",
   "mimetype": "text/x-python",
   "name": "python",
   "nbconvert_exporter": "python",
   "pygments_lexer": "ipython3",
   "version": "3.9.12"
  }
 },
 "nbformat": 4,
 "nbformat_minor": 5
}
